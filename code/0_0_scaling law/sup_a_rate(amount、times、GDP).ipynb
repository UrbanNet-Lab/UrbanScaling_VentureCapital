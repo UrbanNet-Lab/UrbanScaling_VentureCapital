{
 "cells": [
  {
   "cell_type": "code",
   "execution_count": 6,
   "metadata": {},
   "outputs": [],
   "source": [
    "#关于文档的一个数据分类\n",
    "import pandas as pd\n",
    "import seaborn as sns  #用于绘制热图的工具包\n",
    "from scipy.cluster import hierarchy  #用于进行层次聚类，话层次聚类图的工具包\n",
    "from scipy import cluster   \n",
    "import matplotlib.pyplot as plt\n",
    "from sklearn import decomposition as skldec #用于主成分分析降维的包\n",
    "import numpy as np\n",
    "#import csv\n",
    "import math\n",
    "from pandas import Series,DataFrame\n",
    "from matplotlib.ticker import  MultipleLocator\n",
    "from scipy.interpolate import lagrange##插值处理"
   ]
  },
  {
   "cell_type": "code",
   "execution_count": 7,
   "metadata": {},
   "outputs": [],
   "source": [
    "data = pd.read_excel('E:/vcdata/data/vcAmountaandTimes.xlsx') ###GDP ！= null"
   ]
  },
  {
   "cell_type": "code",
   "execution_count": 8,
   "metadata": {},
   "outputs": [
    {
     "data": {
      "text/html": [
       "<div>\n",
       "<style scoped>\n",
       "    .dataframe tbody tr th:only-of-type {\n",
       "        vertical-align: middle;\n",
       "    }\n",
       "\n",
       "    .dataframe tbody tr th {\n",
       "        vertical-align: top;\n",
       "    }\n",
       "\n",
       "    .dataframe thead th {\n",
       "        text-align: right;\n",
       "    }\n",
       "</style>\n",
       "<table border=\"1\" class=\"dataframe\">\n",
       "  <thead>\n",
       "    <tr style=\"text-align: right;\">\n",
       "      <th></th>\n",
       "      <th>1991投资次数(无金额)</th>\n",
       "      <th>1992投资次数(无金额)</th>\n",
       "      <th>1993投资次数(无金额)</th>\n",
       "      <th>1994投资次数(无金额)</th>\n",
       "      <th>1995投资次数(无金额)</th>\n",
       "      <th>1996投资次数(无金额)</th>\n",
       "      <th>1997投资次数(无金额)</th>\n",
       "      <th>1998投资次数(无金额)</th>\n",
       "      <th>1999投资次数(无金额)</th>\n",
       "      <th>2000投资次数(无金额)</th>\n",
       "      <th>...</th>\n",
       "      <th>2008投资次数(无金额)</th>\n",
       "      <th>2009投资次数(无金额)</th>\n",
       "      <th>2010投资次数(无金额)</th>\n",
       "      <th>2011投资次数(无金额)</th>\n",
       "      <th>2012投资次数(无金额)</th>\n",
       "      <th>2013投资次数(无金额)</th>\n",
       "      <th>2014投资次数(无金额)</th>\n",
       "      <th>2015投资次数(无金额)</th>\n",
       "      <th>2016投资次数(无金额)</th>\n",
       "      <th>2017投资次数(无金额)</th>\n",
       "    </tr>\n",
       "  </thead>\n",
       "  <tbody>\n",
       "    <tr>\n",
       "      <th>0</th>\n",
       "      <td>0</td>\n",
       "      <td>0</td>\n",
       "      <td>0</td>\n",
       "      <td>0</td>\n",
       "      <td>0</td>\n",
       "      <td>0</td>\n",
       "      <td>0</td>\n",
       "      <td>0</td>\n",
       "      <td>0</td>\n",
       "      <td>0</td>\n",
       "      <td>...</td>\n",
       "      <td>0</td>\n",
       "      <td>0</td>\n",
       "      <td>0</td>\n",
       "      <td>0</td>\n",
       "      <td>0</td>\n",
       "      <td>0</td>\n",
       "      <td>0</td>\n",
       "      <td>0</td>\n",
       "      <td>0</td>\n",
       "      <td>0</td>\n",
       "    </tr>\n",
       "  </tbody>\n",
       "</table>\n",
       "<p>1 rows × 27 columns</p>\n",
       "</div>"
      ],
      "text/plain": [
       "   1991投资次数(无金额)  1992投资次数(无金额)  1993投资次数(无金额)  1994投资次数(无金额)  1995投资次数(无金额)  \\\n",
       "0              0              0              0              0              0   \n",
       "\n",
       "   1996投资次数(无金额)  1997投资次数(无金额)  1998投资次数(无金额)  1999投资次数(无金额)  2000投资次数(无金额)  \\\n",
       "0              0              0              0              0              0   \n",
       "\n",
       "       ...        2008投资次数(无金额)  2009投资次数(无金额)  2010投资次数(无金额)  2011投资次数(无金额)  \\\n",
       "0      ...                    0              0              0              0   \n",
       "\n",
       "   2012投资次数(无金额)  2013投资次数(无金额)  2014投资次数(无金额)  2015投资次数(无金额)  2016投资次数(无金额)  \\\n",
       "0              0              0              0              0              0   \n",
       "\n",
       "   2017投资次数(无金额)  \n",
       "0              0  \n",
       "\n",
       "[1 rows x 27 columns]"
      ]
     },
     "execution_count": 8,
     "metadata": {},
     "output_type": "execute_result"
    }
   ],
   "source": [
    "data.iloc[0:1,2+27*3:2+27*4] "
   ]
  },
  {
   "cell_type": "code",
   "execution_count": 9,
   "metadata": {},
   "outputs": [],
   "source": [
    "dataAmount = data.iloc[:,2:2+27] ###amount\n",
    "AmountFind = []\n",
    "Amount0 = []\n",
    "AmountUnknown = []\n",
    "for i in dataAmount.columns:\n",
    "    amountFind = 0\n",
    "    amount0 = 0\n",
    "    amountUnknown = 0\n",
    "    for j in range(dataAmount.shape[0]):\n",
    "        if dataAmount[i][j] == 0:\n",
    "            amount0 += 1\n",
    "        elif math.isnan(dataAmount[i][j]):\n",
    "            amountUnknown += 1\n",
    "        else:\n",
    "            amountFind += 1\n",
    "    AmountFind.append(amountFind)\n",
    "    Amount0.append(amount0)\n",
    "    AmountUnknown.append(amountUnknown)"
   ]
  },
  {
   "cell_type": "code",
   "execution_count": 10,
   "metadata": {},
   "outputs": [
    {
     "data": {
      "text/plain": [
       "(81, 338)"
      ]
     },
     "execution_count": 10,
     "metadata": {},
     "output_type": "execute_result"
    }
   ],
   "source": [
    "len(AmountFind + AmountUnknown + Amount0),dataAmount.shape[0]"
   ]
  },
  {
   "cell_type": "code",
   "execution_count": 19,
   "metadata": {},
   "outputs": [
    {
     "data": {
      "image/png": "[encoded data removed]",
      "text/plain": [
       "<Figure size 504x432 with 1 Axes>"
      ]
     },
     "metadata": {},
     "output_type": "display_data"
    }
   ],
   "source": [
    "fig = plt.figure(figsize=(7,6))\n",
    "ax1 = fig.add_subplot(1,1,1)\n",
    "font2 = {'family' : 'Arial',\n",
    "'weight' : 'normal',\n",
    "'size' : 22,\n",
    "}###设置横纵坐标的字体格式\n",
    "plt.xlabel('year',font2)\n",
    "plt.ylabel('# city',font2)\n",
    "plt.tick_params(labelsize=16) #刻度字体大小13\n",
    "\n",
    "x = np.arange(1991,2018)\n",
    "xmajorLocator = MultipleLocator(3)\n",
    "xminorLocator = MultipleLocator(1.0)\n",
    "ax1.xaxis.set_major_locator(xmajorLocator)\n",
    "ax1.xaxis.set_minor_locator(xminorLocator)\n",
    "plt.xticks(rotation=15)\n",
    "for i in range(27):\n",
    "    plt.bar(x,AmountFind, zorder=4,color='#afb4db') \n",
    "    plt.bar(x,[AmountFind[i] + AmountUnknown[i] for i in range(len(AmountUnknown))], zorder=3,color='#d9d6c3') \n",
    "    plt.bar(x,[AmountFind[i] + AmountUnknown[i] +Amount0[i] for i in range(27)], zorder=2,color='#585eaa') \n",
    "plt.text(2019,50,'AmountFind',fontsize = 12)\n",
    "plt.text(2019,200,'Amount0',fontsize = 12)\n",
    "plt.text(2019,270,'AmountUnknown',fontsize = 12)\n",
    "plt.savefig('E:/vcdata/pic/picSCLaw/Supplementary Fig6c(amount).pdf', bbox_inches='tight')\n",
    "plt.show()"
   ]
  },
  {
   "cell_type": "code",
   "execution_count": 7,
   "metadata": {},
   "outputs": [
    {
     "data": {
      "text/plain": [
       "'七台河'"
      ]
     },
     "execution_count": 7,
     "metadata": {},
     "output_type": "execute_result"
    }
   ],
   "source": [
    "data['City'][0]"
   ]
  },
  {
   "cell_type": "code",
   "execution_count": 8,
   "metadata": {},
   "outputs": [],
   "source": [
    "######## 投资金额存在的城市累加 ####"
   ]
  },
  {
   "cell_type": "code",
   "execution_count": 9,
   "metadata": {},
   "outputs": [
    {
     "data": {
      "text/html": [
       "<div>\n",
       "<style scoped>\n",
       "    .dataframe tbody tr th:only-of-type {\n",
       "        vertical-align: middle;\n",
       "    }\n",
       "\n",
       "    .dataframe tbody tr th {\n",
       "        vertical-align: top;\n",
       "    }\n",
       "\n",
       "    .dataframe thead th {\n",
       "        text-align: right;\n",
       "    }\n",
       "</style>\n",
       "<table border=\"1\" class=\"dataframe\">\n",
       "  <thead>\n",
       "    <tr style=\"text-align: right;\">\n",
       "      <th></th>\n",
       "      <th>1991总投资金额(M)</th>\n",
       "      <th>1992总投资金额(M)</th>\n",
       "      <th>1993总投资金额(M)</th>\n",
       "      <th>1994总投资金额(M)</th>\n",
       "      <th>1995总投资金额(M)</th>\n",
       "      <th>1996总投资金额(M)</th>\n",
       "      <th>1997总投资金额(M)</th>\n",
       "      <th>1998总投资金额(M)</th>\n",
       "      <th>1999总投资金额(M)</th>\n",
       "      <th>2000总投资金额(M)</th>\n",
       "      <th>...</th>\n",
       "      <th>2008总投资金额(M)</th>\n",
       "      <th>2009总投资金额(M)</th>\n",
       "      <th>2010总投资金额(M)</th>\n",
       "      <th>2011总投资金额(M)</th>\n",
       "      <th>2012总投资金额(M)</th>\n",
       "      <th>2013总投资金额(M)</th>\n",
       "      <th>2014总投资金额(M)</th>\n",
       "      <th>2015总投资金额(M)</th>\n",
       "      <th>2016总投资金额(M)</th>\n",
       "      <th>2017总投资金额(M)</th>\n",
       "    </tr>\n",
       "  </thead>\n",
       "  <tbody>\n",
       "    <tr>\n",
       "      <th>0</th>\n",
       "      <td>NaN</td>\n",
       "      <td>NaN</td>\n",
       "      <td>NaN</td>\n",
       "      <td>NaN</td>\n",
       "      <td>NaN</td>\n",
       "      <td>NaN</td>\n",
       "      <td>NaN</td>\n",
       "      <td>NaN</td>\n",
       "      <td>NaN</td>\n",
       "      <td>NaN</td>\n",
       "      <td>...</td>\n",
       "      <td>20.0</td>\n",
       "      <td>NaN</td>\n",
       "      <td>NaN</td>\n",
       "      <td>NaN</td>\n",
       "      <td>NaN</td>\n",
       "      <td>NaN</td>\n",
       "      <td>NaN</td>\n",
       "      <td>NaN</td>\n",
       "      <td>NaN</td>\n",
       "      <td>NaN</td>\n",
       "    </tr>\n",
       "  </tbody>\n",
       "</table>\n",
       "<p>1 rows × 27 columns</p>\n",
       "</div>"
      ],
      "text/plain": [
       "   1991总投资金额(M)  1992总投资金额(M)  1993总投资金额(M)  1994总投资金额(M)  1995总投资金额(M)  \\\n",
       "0           NaN           NaN           NaN           NaN           NaN   \n",
       "\n",
       "   1996总投资金额(M)  1997总投资金额(M)  1998总投资金额(M)  1999总投资金额(M)  2000总投资金额(M)  \\\n",
       "0           NaN           NaN           NaN           NaN           NaN   \n",
       "\n",
       "       ...       2008总投资金额(M)  2009总投资金额(M)  2010总投资金额(M)  2011总投资金额(M)  \\\n",
       "0      ...               20.0           NaN           NaN           NaN   \n",
       "\n",
       "   2012总投资金额(M)  2013总投资金额(M)  2014总投资金额(M)  2015总投资金额(M)  2016总投资金额(M)  \\\n",
       "0           NaN           NaN           NaN           NaN           NaN   \n",
       "\n",
       "   2017总投资金额(M)  \n",
       "0           NaN  \n",
       "\n",
       "[1 rows x 27 columns]"
      ]
     },
     "execution_count": 9,
     "metadata": {},
     "output_type": "execute_result"
    }
   ],
   "source": [
    "data.iloc[0:1,2:2+27]"
   ]
  },
  {
   "cell_type": "code",
   "execution_count": 10,
   "metadata": {},
   "outputs": [],
   "source": [
    "dataAmount = data.iloc[:,2:2+27] ###amount\n",
    "city = data['City']\n",
    "cityall = []\n",
    "AmountFind = []\n",
    "Amount0 = []\n",
    "AmountUnknown = []\n",
    "for i in dataAmount.columns:\n",
    "    amountFind = 0\n",
    "    amount0 = 0\n",
    "    amountUnknown = 0\n",
    "    cityF = [] ###记录该年有投资的城市\n",
    "    for j in range(dataAmount.shape[0]):\n",
    "        if dataAmount[i][j] > 0:\n",
    "            cityF.append(city[j]) ### 将该年有投资的城市\n",
    "    cityall.append(cityF)"
   ]
  },
  {
   "cell_type": "code",
   "execution_count": 11,
   "metadata": {},
   "outputs": [],
   "source": [
    "cityNum = []\n",
    "city2 = list(set(cityall[0]).union(set(cityall[1])))\n",
    "cityNum.append(len(cityall[0]))\n",
    "cityNum.append(len(city2))\n",
    "for i in range(2,27):   \n",
    "    city1 = cityall[i]\n",
    "    city2 = list(set(city1).union(set(city2)))\n",
    "    cityNum.append(len(city2))"
   ]
  },
  {
   "cell_type": "code",
   "execution_count": 12,
   "metadata": {},
   "outputs": [
    {
     "data": {
      "image/png": "[encoded data removed]",
      "text/plain": [
       "<Figure size 504x432 with 1 Axes>"
      ]
     },
     "metadata": {},
     "output_type": "display_data"
    }
   ],
   "source": [
    "fig = plt.figure(figsize=(7,6))\n",
    "ax1 = fig.add_subplot(1,1,1)\n",
    "plt.xlabel('year',font2)\n",
    "plt.ylabel('# cityUnion',font2)\n",
    "plt.xticks(rotation=15)\n",
    "plt.rcParams['font.sans-serif']=['Simhei']     #解决中文显示问题，目前只知道黑体可行\n",
    "plt.rcParams['axes.unicode_minus']=False       #解决负数坐标显示问题\n",
    "xmajorLocator = MultipleLocator(3)\n",
    "xminorLocator = MultipleLocator(1.0)\n",
    "ax1.xaxis.set_major_locator(xmajorLocator)\n",
    "ax1.xaxis.set_minor_locator(xminorLocator)\n",
    "plt.tick_params(labelsize=16) #刻度字体大小13\n",
    "x = np.arange(1991,2018)\n",
    "for i in range(27):\n",
    "    plt.bar(x,cityNum,color = 'b') \n",
    "plt.savefig('E:/vcdata/pic/picSCLaw/Supplementary Fig6c2(amountunion).pdf', bbox_inches='tight')\n",
    "plt.show()"
   ]
  },
  {
   "cell_type": "code",
   "execution_count": 13,
   "metadata": {},
   "outputs": [],
   "source": [
    "###### pop和投资都存在的城市数####"
   ]
  },
  {
   "cell_type": "code",
   "execution_count": 14,
   "metadata": {},
   "outputs": [],
   "source": [
    "datavc = pd.read_excel('E:/vcdata/data/ALL_Intersection.xlsx') ###GDP ！= null"
   ]
  },
  {
   "cell_type": "code",
   "execution_count": 15,
   "metadata": {},
   "outputs": [
    {
     "data": {
      "text/html": [
       "<div>\n",
       "<style scoped>\n",
       "    .dataframe tbody tr th:only-of-type {\n",
       "        vertical-align: middle;\n",
       "    }\n",
       "\n",
       "    .dataframe tbody tr th {\n",
       "        vertical-align: top;\n",
       "    }\n",
       "\n",
       "    .dataframe thead th {\n",
       "        text-align: right;\n",
       "    }\n",
       "</style>\n",
       "<table border=\"1\" class=\"dataframe\">\n",
       "  <thead>\n",
       "    <tr style=\"text-align: right;\">\n",
       "      <th></th>\n",
       "      <th>2000总投资金额(M)</th>\n",
       "      <th>2001总投资金额(M)</th>\n",
       "      <th>2002总投资金额(M)</th>\n",
       "      <th>2003总投资金额(M)</th>\n",
       "      <th>2004总投资金额(M)</th>\n",
       "      <th>2005总投资金额(M)</th>\n",
       "      <th>2006总投资金额(M)</th>\n",
       "      <th>2007总投资金额(M)</th>\n",
       "      <th>2008总投资金额(M)</th>\n",
       "      <th>2009总投资金额(M)</th>\n",
       "      <th>2010总投资金额(M)</th>\n",
       "      <th>2011总投资金额(M)</th>\n",
       "      <th>2012总投资金额(M)</th>\n",
       "      <th>2013总投资金额(M)</th>\n",
       "      <th>2014总投资金额(M)</th>\n",
       "      <th>2015总投资金额(M)</th>\n",
       "      <th>2016总投资金额(M)</th>\n",
       "      <th>2017总投资金额(M)</th>\n",
       "    </tr>\n",
       "  </thead>\n",
       "  <tbody>\n",
       "    <tr>\n",
       "      <th>0</th>\n",
       "      <td>NaN</td>\n",
       "      <td>NaN</td>\n",
       "      <td>NaN</td>\n",
       "      <td>NaN</td>\n",
       "      <td>NaN</td>\n",
       "      <td>NaN</td>\n",
       "      <td>8.72638</td>\n",
       "      <td>NaN</td>\n",
       "      <td>NaN</td>\n",
       "      <td>463.6</td>\n",
       "      <td>NaN</td>\n",
       "      <td>600.0</td>\n",
       "      <td>NaN</td>\n",
       "      <td>0.0</td>\n",
       "      <td>NaN</td>\n",
       "      <td>NaN</td>\n",
       "      <td>43.6</td>\n",
       "      <td>NaN</td>\n",
       "    </tr>\n",
       "  </tbody>\n",
       "</table>\n",
       "</div>"
      ],
      "text/plain": [
       "   2000总投资金额(M)  2001总投资金额(M)  2002总投资金额(M)  2003总投资金额(M)  2004总投资金额(M)  \\\n",
       "0           NaN           NaN           NaN           NaN           NaN   \n",
       "\n",
       "   2005总投资金额(M)  2006总投资金额(M)  2007总投资金额(M)  2008总投资金额(M)  2009总投资金额(M)  \\\n",
       "0           NaN       8.72638           NaN           NaN         463.6   \n",
       "\n",
       "   2010总投资金额(M)  2011总投资金额(M)  2012总投资金额(M)  2013总投资金额(M)  2014总投资金额(M)  \\\n",
       "0           NaN         600.0           NaN           0.0           NaN   \n",
       "\n",
       "   2015总投资金额(M)  2016总投资金额(M)  2017总投资金额(M)  \n",
       "0           NaN          43.6           NaN  "
      ]
     },
     "execution_count": 15,
     "metadata": {},
     "output_type": "execute_result"
    }
   ],
   "source": [
    "datavc.iloc[0:1,12:12+18] "
   ]
  },
  {
   "cell_type": "code",
   "execution_count": 16,
   "metadata": {},
   "outputs": [],
   "source": [
    "dataAmount = datavc.iloc[:,12:12+18] ###amount\n",
    "dataPOP = datavc.iloc[:,3+27*5:21+27*5] ### pop \n",
    "APFind = []\n",
    "AP0 = []\n",
    "APUnknown = []\n",
    "c1 = dataAmount.columns\n",
    "c2 = dataPOP.columns\n",
    "for i in range(len(dataAmount.columns)):\n",
    "    amountFind = 0\n",
    "    amount0 = 0\n",
    "    amountUnknown = 0\n",
    "    for j in range(dataAmount.shape[0]):\n",
    "        if dataAmount[c1[i]][j] > 0 and dataPOP[c2[i]][j] > 0:\n",
    "            amountFind += 1 ###人口和投资都存在\n",
    "        elif dataAmount[c1[i]][j] == 0 or dataPOP[c2[i]][j] == 0:\n",
    "            amount0 += 1\n",
    "        else:\n",
    "            amountUnknown += 1\n",
    "    APFind.append(amountFind)\n",
    "    AP0.append(amount0)\n",
    "    APUnknown.append(amountUnknown)"
   ]
  },
  {
   "cell_type": "code",
   "execution_count": 20,
   "metadata": {},
   "outputs": [
    {
     "data": {
      "image/png": "[encoded data removed]",
      "text/plain": [
       "<Figure size 504x432 with 1 Axes>"
      ]
     },
     "metadata": {},
     "output_type": "display_data"
    }
   ],
   "source": [
    "fig = plt.figure(figsize=(7,6))\n",
    "ax1 = fig.add_subplot(1,1,1)\n",
    "plt.xlabel('year',font2)\n",
    "plt.ylabel('# city',font2)\n",
    "plt.tick_params(labelsize=16) #刻度字体大小13\n",
    "x = np.arange(2000,2018)\n",
    "plt.xlim(1999,2018)\n",
    "for i in range(27):\n",
    "    plt.bar(x,APFind, zorder=4,color='#afb4db') \n",
    "    plt.bar(x,[APFind[i] + APUnknown[i] for i in range(len(APUnknown))], zorder=3,color='#d9d6c3') \n",
    "    plt.bar(x,[APFind[i] + APUnknown[i] +AP0[i] for i in range(18)], zorder=2,color='#585eaa') \n",
    "plt.text(2019,50,'AmountPopFind',fontsize = 12)\n",
    "plt.text(2019,200,'AmountPop0',fontsize = 12)\n",
    "plt.text(2019,270,'AmountPopUnknown',fontsize = 12)\n",
    "plt.xticks(rotation=15)\n",
    "plt.rcParams['font.sans-serif']=['Simhei']     #解决中文显示问题，目前只知道黑体可行\n",
    "plt.rcParams['axes.unicode_minus']=False       #解决负数坐标显示问题\n",
    "xmajorLocator = MultipleLocator(2)\n",
    "xminorLocator = MultipleLocator(1.0)\n",
    "ax1.xaxis.set_major_locator(xmajorLocator)\n",
    "ax1.xaxis.set_minor_locator(xminorLocator)\n",
    "plt.savefig('E:/vcdata/pic/picSCLaw/Supplementary Fig6d(amount&pop).pdf', bbox_inches='tight')\n",
    "plt.show()"
   ]
  },
  {
   "cell_type": "code",
   "execution_count": 19,
   "metadata": {},
   "outputs": [],
   "source": [
    "######累积"
   ]
  },
  {
   "cell_type": "code",
   "execution_count": 21,
   "metadata": {},
   "outputs": [],
   "source": [
    "dataAmount = datavc.iloc[:,12:12+18] ###amount\n",
    "dataPOP = datavc.iloc[:,3+27*5:21+27*5] ### pop \n",
    "cityvc = datavc['City']\n",
    "cityvcall = []\n",
    "c1 = dataAmount.columns\n",
    "c2 = dataPOP.columns\n",
    "for i in range(len(dataAmount.columns)):\n",
    "    cityvcY = [] ###保存该年投资和人口都存在的城市\n",
    "    for j in range(dataAmount.shape[0]):\n",
    "        if dataAmount[c1[i]][j] > 0 and dataPOP[c2[i]][j] > 0:\n",
    "            cityvcY.append(cityvc[j]) ###人口和投资都存在\n",
    "    cityvcall.append(cityvcY)"
   ]
  },
  {
   "cell_type": "code",
   "execution_count": 22,
   "metadata": {},
   "outputs": [],
   "source": [
    "cityNumV = []\n",
    "city2 = list(set(cityvcall[0]).union(set(cityvcall[1])))\n",
    "cityNumV.append(len(cityvcall[0]))\n",
    "cityNumV.append(len(city2))\n",
    "for i in range(2,18):   \n",
    "    city1 = cityvcall[i]\n",
    "    city2 = list(set(city1).union(set(city2)))\n",
    "    cityNumV.append(len(city2))"
   ]
  },
  {
   "cell_type": "code",
   "execution_count": 22,
   "metadata": {},
   "outputs": [
    {
     "data": {
      "image/png": "[encoded data removed]",
      "text/plain": [
       "<Figure size 504x432 with 1 Axes>"
      ]
     },
     "metadata": {},
     "output_type": "display_data"
    }
   ],
   "source": [
    "fig = plt.figure(figsize=(7,6))\n",
    "ax1 = fig.add_subplot(1,1,1)\n",
    "plt.xlabel('year',font2)\n",
    "plt.ylabel('# cityUnion',font2)\n",
    "plt.xticks(rotation=15)\n",
    "plt.rcParams['font.sans-serif']=['Simhei']     #解决中文显示问题，目前只知道黑体可行\n",
    "plt.rcParams['axes.unicode_minus']=False       #解决负数坐标显示问题\n",
    "xmajorLocator = MultipleLocator(2)\n",
    "xminorLocator = MultipleLocator(1.0)\n",
    "ax1.xaxis.set_major_locator(xmajorLocator)\n",
    "ax1.xaxis.set_minor_locator(xminorLocator)\n",
    "plt.tick_params(labelsize=16) #刻度字体大小13\n",
    "x = np.arange(2000,2018)\n",
    "for i in range(18):\n",
    "    plt.bar(x,cityNumV,color = 'b') \n",
    "plt.savefig('E:/vcdata/pic/picSCLaw/Supplementary Fig6d2(amounPoptunion).pdf', bbox_inches='tight')\n",
    "plt.show()"
   ]
  },
  {
   "cell_type": "code",
   "execution_count": 23,
   "metadata": {},
   "outputs": [],
   "source": [
    "########## # investments ###############"
   ]
  },
  {
   "cell_type": "code",
   "execution_count": 24,
   "metadata": {},
   "outputs": [
    {
     "data": {
      "text/html": [
       "<div>\n",
       "<style scoped>\n",
       "    .dataframe tbody tr th:only-of-type {\n",
       "        vertical-align: middle;\n",
       "    }\n",
       "\n",
       "    .dataframe tbody tr th {\n",
       "        vertical-align: top;\n",
       "    }\n",
       "\n",
       "    .dataframe thead th {\n",
       "        text-align: right;\n",
       "    }\n",
       "</style>\n",
       "<table border=\"1\" class=\"dataframe\">\n",
       "  <thead>\n",
       "    <tr style=\"text-align: right;\">\n",
       "      <th></th>\n",
       "      <th>1991投资次数(无金额)</th>\n",
       "      <th>1992投资次数(无金额)</th>\n",
       "      <th>1993投资次数(无金额)</th>\n",
       "      <th>1994投资次数(无金额)</th>\n",
       "      <th>1995投资次数(无金额)</th>\n",
       "      <th>1996投资次数(无金额)</th>\n",
       "      <th>1997投资次数(无金额)</th>\n",
       "      <th>1998投资次数(无金额)</th>\n",
       "      <th>1999投资次数(无金额)</th>\n",
       "      <th>2000投资次数(无金额)</th>\n",
       "      <th>...</th>\n",
       "      <th>2008投资次数(无金额)</th>\n",
       "      <th>2009投资次数(无金额)</th>\n",
       "      <th>2010投资次数(无金额)</th>\n",
       "      <th>2011投资次数(无金额)</th>\n",
       "      <th>2012投资次数(无金额)</th>\n",
       "      <th>2013投资次数(无金额)</th>\n",
       "      <th>2014投资次数(无金额)</th>\n",
       "      <th>2015投资次数(无金额)</th>\n",
       "      <th>2016投资次数(无金额)</th>\n",
       "      <th>2017投资次数(无金额)</th>\n",
       "    </tr>\n",
       "  </thead>\n",
       "  <tbody>\n",
       "    <tr>\n",
       "      <th>0</th>\n",
       "      <td>0</td>\n",
       "      <td>0</td>\n",
       "      <td>0</td>\n",
       "      <td>0</td>\n",
       "      <td>0</td>\n",
       "      <td>0</td>\n",
       "      <td>0</td>\n",
       "      <td>0</td>\n",
       "      <td>0</td>\n",
       "      <td>0</td>\n",
       "      <td>...</td>\n",
       "      <td>0</td>\n",
       "      <td>0</td>\n",
       "      <td>0</td>\n",
       "      <td>0</td>\n",
       "      <td>0</td>\n",
       "      <td>0</td>\n",
       "      <td>0</td>\n",
       "      <td>0</td>\n",
       "      <td>0</td>\n",
       "      <td>0</td>\n",
       "    </tr>\n",
       "  </tbody>\n",
       "</table>\n",
       "<p>1 rows × 27 columns</p>\n",
       "</div>"
      ],
      "text/plain": [
       "   1991投资次数(无金额)  1992投资次数(无金额)  1993投资次数(无金额)  1994投资次数(无金额)  1995投资次数(无金额)  \\\n",
       "0              0              0              0              0              0   \n",
       "\n",
       "   1996投资次数(无金额)  1997投资次数(无金额)  1998投资次数(无金额)  1999投资次数(无金额)  2000投资次数(无金额)  \\\n",
       "0              0              0              0              0              0   \n",
       "\n",
       "       ...        2008投资次数(无金额)  2009投资次数(无金额)  2010投资次数(无金额)  2011投资次数(无金额)  \\\n",
       "0      ...                    0              0              0              0   \n",
       "\n",
       "   2012投资次数(无金额)  2013投资次数(无金额)  2014投资次数(无金额)  2015投资次数(无金额)  2016投资次数(无金额)  \\\n",
       "0              0              0              0              0              0   \n",
       "\n",
       "   2017投资次数(无金额)  \n",
       "0              0  \n",
       "\n",
       "[1 rows x 27 columns]"
      ]
     },
     "execution_count": 24,
     "metadata": {},
     "output_type": "execute_result"
    }
   ],
   "source": [
    "data.iloc[0:1,2+27*3:2+27*4]"
   ]
  },
  {
   "cell_type": "code",
   "execution_count": 23,
   "metadata": {},
   "outputs": [],
   "source": [
    "dataTimes = data.iloc[:,2+27:2+27*2] \n",
    "dataUnknown = data.iloc[:,2+27*2:2+27*3] \n",
    "dataTimes0 = data.iloc[:,2+27*3:2+27*4] \n",
    "TimesFind = dataTimes.sum(axis=0)\n",
    "Times0 = dataTimes0.sum(axis=0)\n",
    "TimesUnknown = dataUnknown.sum(axis=0)"
   ]
  },
  {
   "cell_type": "code",
   "execution_count": 24,
   "metadata": {},
   "outputs": [
    {
     "data": {
      "image/png": "[encoded data removed]",
      "text/plain": [
       "<Figure size 504x432 with 1 Axes>"
      ]
     },
     "metadata": {},
     "output_type": "display_data"
    }
   ],
   "source": [
    "fig = plt.figure(figsize=(7,6))\n",
    "ax1 = fig.add_subplot(1,1,1)\n",
    "plt.xlabel('year',font2)\n",
    "plt.ylabel('# investments',font2)\n",
    "plt.tick_params(labelsize=16) #刻度字体大小13\n",
    "x = np.arange(1991,2018)\n",
    "# plt.xlim(1999,2018)\n",
    "for i in range(27):\n",
    "    plt.bar(x,TimesFind, zorder=4,color='#afb4db') \n",
    "#     plt.bar(x,[TimesFind[i] + TimesUnknown[i] for i in range(len(TimesUnknown))], zorder=3) '#585eaa'\n",
    "    plt.bar(x,[TimesFind[i] +Times0[i] for i in range(27)], zorder=2,color='#d9d6c3') \n",
    "plt.text(2019,4000,'TimesFind',fontsize = 14)\n",
    "plt.text(2019,5500,'Times0',fontsize = 14)\n",
    "# plt.text(1992,9000,'TimesUnknown',fontsize = 14)\n",
    "plt.xticks(rotation=15)\n",
    "plt.rcParams['font.sans-serif']=['Simhei']     #解决中文显示问题，目前只知道黑体可行\n",
    "plt.rcParams['axes.unicode_minus']=False       #解决负数坐标显示问题\n",
    "xmajorLocator = MultipleLocator(3)\n",
    "xminorLocator = MultipleLocator(1.0)\n",
    "ax1.xaxis.set_major_locator(xmajorLocator)\n",
    "ax1.xaxis.set_minor_locator(xminorLocator)\n",
    "plt.savefig('E:/vcdata/pic/picSCLaw/Supplementary Fig6e(times).pdf', bbox_inches='tight')\n",
    "plt.show()"
   ]
  },
  {
   "cell_type": "code",
   "execution_count": 25,
   "metadata": {},
   "outputs": [],
   "source": [
    "######## 276个城市投资次数为0和不为0的分布情况 ###"
   ]
  },
  {
   "cell_type": "code",
   "execution_count": 26,
   "metadata": {},
   "outputs": [
    {
     "data": {
      "text/html": [
       "<div>\n",
       "<style scoped>\n",
       "    .dataframe tbody tr th:only-of-type {\n",
       "        vertical-align: middle;\n",
       "    }\n",
       "\n",
       "    .dataframe tbody tr th {\n",
       "        vertical-align: top;\n",
       "    }\n",
       "\n",
       "    .dataframe thead th {\n",
       "        text-align: right;\n",
       "    }\n",
       "</style>\n",
       "<table border=\"1\" class=\"dataframe\">\n",
       "  <thead>\n",
       "    <tr style=\"text-align: right;\">\n",
       "      <th></th>\n",
       "      <th>1991总投资次数</th>\n",
       "      <th>1992总投资次数</th>\n",
       "      <th>1993总投资次数</th>\n",
       "      <th>1994总投资次数</th>\n",
       "      <th>1995总投资次数</th>\n",
       "      <th>1996总投资次数</th>\n",
       "      <th>1997总投资次数</th>\n",
       "      <th>1998总投资次数</th>\n",
       "      <th>1999总投资次数</th>\n",
       "      <th>2000总投资次数</th>\n",
       "      <th>...</th>\n",
       "      <th>2008总投资次数</th>\n",
       "      <th>2009总投资次数</th>\n",
       "      <th>2010总投资次数</th>\n",
       "      <th>2011总投资次数</th>\n",
       "      <th>2012总投资次数</th>\n",
       "      <th>2013总投资次数</th>\n",
       "      <th>2014总投资次数</th>\n",
       "      <th>2015总投资次数</th>\n",
       "      <th>2016总投资次数</th>\n",
       "      <th>2017总投资次数</th>\n",
       "    </tr>\n",
       "  </thead>\n",
       "  <tbody>\n",
       "    <tr>\n",
       "      <th>0</th>\n",
       "      <td>0.0</td>\n",
       "      <td>0.0</td>\n",
       "      <td>0.0</td>\n",
       "      <td>0.0</td>\n",
       "      <td>0.0</td>\n",
       "      <td>0.0</td>\n",
       "      <td>0.0</td>\n",
       "      <td>0.0</td>\n",
       "      <td>0.0</td>\n",
       "      <td>0.0</td>\n",
       "      <td>...</td>\n",
       "      <td>0.0</td>\n",
       "      <td>5.0</td>\n",
       "      <td>0.0</td>\n",
       "      <td>3.0</td>\n",
       "      <td>0.0</td>\n",
       "      <td>1.0</td>\n",
       "      <td>0.0</td>\n",
       "      <td>0.0</td>\n",
       "      <td>3.0</td>\n",
       "      <td>0.0</td>\n",
       "    </tr>\n",
       "  </tbody>\n",
       "</table>\n",
       "<p>1 rows × 27 columns</p>\n",
       "</div>"
      ],
      "text/plain": [
       "   1991总投资次数  1992总投资次数  1993总投资次数  1994总投资次数  1995总投资次数  1996总投资次数  \\\n",
       "0        0.0        0.0        0.0        0.0        0.0        0.0   \n",
       "\n",
       "   1997总投资次数  1998总投资次数  1999总投资次数  2000总投资次数    ...      2008总投资次数  \\\n",
       "0        0.0        0.0        0.0        0.0    ...            0.0   \n",
       "\n",
       "   2009总投资次数  2010总投资次数  2011总投资次数  2012总投资次数  2013总投资次数  2014总投资次数  \\\n",
       "0        5.0        0.0        3.0        0.0        1.0        0.0   \n",
       "\n",
       "   2015总投资次数  2016总投资次数  2017总投资次数  \n",
       "0        0.0        3.0        0.0  \n",
       "\n",
       "[1 rows x 27 columns]"
      ]
     },
     "execution_count": 26,
     "metadata": {},
     "output_type": "execute_result"
    }
   ],
   "source": [
    "datavc.iloc[0:1,3+27:3+27*2]"
   ]
  },
  {
   "cell_type": "code",
   "execution_count": 27,
   "metadata": {},
   "outputs": [],
   "source": [
    "dataTimes = datavc.iloc[:,3+27:3+27*2]###times\n",
    "TFind = []\n",
    "T0 = []\n",
    "c1 = dataTimes.columns\n",
    "cityvc = datavc['City']\n",
    "cityvcall = []\n",
    "for i in range(len(dataTimes.columns)):\n",
    "    timesFind = 0\n",
    "    times0 = 0\n",
    "    cityvcY = [] ###保存该年投资和人口都存在的城市\n",
    "    for j in range(dataTimes.shape[0]):\n",
    "        if dataTimes[c1[i]][j] > 0:\n",
    "            timesFind += 1 ###投资次数不为0\n",
    "            cityvcY.append(cityvc[j]) ###人口和投资都存在\n",
    "        else:\n",
    "            times0 += 1\n",
    "    TFind.append(timesFind)\n",
    "    T0.append(times0)\n",
    "    cityvcall.append(cityvcY)"
   ]
  },
  {
   "cell_type": "code",
   "execution_count": 28,
   "metadata": {},
   "outputs": [
    {
     "data": {
      "image/png": "[encoded data removed]",
      "text/plain": [
       "<Figure size 504x489.6 with 1 Axes>"
      ]
     },
     "metadata": {},
     "output_type": "display_data"
    }
   ],
   "source": [
    "fig = plt.figure(figsize=(7,6.8))\n",
    "ax1 = fig.add_subplot(1,1,1)\n",
    "plt.xlabel('year',font2)\n",
    "plt.ylabel('# city',font2)\n",
    "plt.tick_params(labelsize=16) #刻度字体大小13\n",
    "x = np.arange(1991,2018)\n",
    "# plt.xlim(1991,2018)\n",
    "for i in range(27):\n",
    "    plt.bar(x,TFind, zorder=4,color='#afb4db') \n",
    "    plt.bar(x,[TFind[i] + T0[i] for i in range(27)], zorder=2,color='#d9d6c3') \n",
    "# plt.text(2019,50,'TimesFind',fontsize = 12)\n",
    "# plt.text(2019,200,'Times0',fontsize = 12)\n",
    "plt.xticks(rotation=15)\n",
    "plt.rcParams['font.sans-serif']=['Simhei']     #解决中文显示问题，目前只知道黑体可行\n",
    "plt.rcParams['axes.unicode_minus']=False       #解决负数坐标显示问题\n",
    "xmajorLocator = MultipleLocator(3)\n",
    "xminorLocator = MultipleLocator(1.0)\n",
    "ax1.xaxis.set_major_locator(xmajorLocator)\n",
    "ax1.xaxis.set_minor_locator(xminorLocator)\n",
    "plt.text(1990-4,290,'(b)',fontsize=22)\n",
    "# plt.savefig('E:/vcdata/pic/picSCLaw/Supplementary Fig6e(times).pdf', bbox_inches='tight')\n",
    "plt.savefig('E:/0论文/1picture/2_6b.png',dpi=500, bbox_inches='tight')\n",
    "plt.show()"
   ]
  },
  {
   "cell_type": "code",
   "execution_count": 29,
   "metadata": {},
   "outputs": [],
   "source": [
    "### 累积 #######\n",
    "cityNumT = []\n",
    "city2 = list(set(cityvcall[0]).union(set(cityvcall[1])))\n",
    "cityNumT.append(len(cityvcall[0]))\n",
    "cityNumT.append(len(city2))\n",
    "for i in range(2,27):   \n",
    "    city1 = cityvcall[i]\n",
    "    city2 = list(set(city1).union(set(city2)))\n",
    "    cityNumT.append(len(city2))"
   ]
  },
  {
   "cell_type": "code",
   "execution_count": 30,
   "metadata": {},
   "outputs": [
    {
     "data": {
      "image/png": "[encoded data removed]",
      "text/plain": [
       "<Figure size 504x489.6 with 1 Axes>"
      ]
     },
     "metadata": {},
     "output_type": "display_data"
    }
   ],
   "source": [
    "fig = plt.figure(figsize=(7,6.8))\n",
    "ax1 = fig.add_subplot(1,1,1)\n",
    "font2 = {'family' : 'Arial',\n",
    "    'weight' : 'normal',\n",
    "    'size' : 18,\n",
    "    }###设置横纵坐标的字体格式\n",
    "plt.xlabel('year',font2)\n",
    "plt.ylabel('acumulative (# city)',font2)\n",
    "plt.xticks(rotation=15)\n",
    "plt.rcParams['font.sans-serif']=['Simhei']     #解决中文显示问题，目前只知道黑体可行\n",
    "plt.rcParams['axes.unicode_minus']=False       #解决负数坐标显示问题\n",
    "xmajorLocator = MultipleLocator(3)\n",
    "xminorLocator = MultipleLocator(1.0)\n",
    "ax1.xaxis.set_major_locator(xmajorLocator)\n",
    "ax1.xaxis.set_minor_locator(xminorLocator)\n",
    "plt.tick_params(labelsize=16) #刻度字体大小13\n",
    "x = np.arange(1991,2018)\n",
    "for i in range(27):\n",
    "    plt.plot(x,cityNumT,color='dodgerblue')\n",
    "    plt.scatter(x,cityNumT, color='', marker='o', edgecolors='dodgerblue', s=150) # 把 corlor 设置为空，通过edgecolors来控制颜色\n",
    "# plt.savefig('E:/vcdata/pic/picSCLaw/Supplementary Fig6e22(timesUnion).pdf', bbox_inches='tight')\n",
    "plt.text(1990-4,270,'(a)',fontsize=22)\n",
    "plt.savefig('E:/0论文/1picture/2_6a.png',dpi=500, bbox_inches='tight')\n",
    "plt.show()"
   ]
  },
  {
   "cell_type": "code",
   "execution_count": null,
   "metadata": {},
   "outputs": [],
   "source": []
  }
 ],
 "metadata": {
  "kernelspec": {
   "display_name": "Python 3",
   "language": "python",
   "name": "python3"
  },
  "language_info": {
   "codemirror_mode": {
    "name": "ipython",
    "version": 3
   },
   "file_extension": ".py",
   "mimetype": "text/x-python",
   "name": "python",
   "nbconvert_exporter": "python",
   "pygments_lexer": "ipython3",
   "version": "3.6.5"
  }
 },
 "nbformat": 4,
 "nbformat_minor": 2
}
