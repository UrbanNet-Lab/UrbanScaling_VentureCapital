{
 "cells": [
  {
   "cell_type": "code",
   "execution_count": 1,
   "metadata": {},
   "outputs": [],
   "source": [
    "#关于文档的一个数据分类\n",
    "import pandas as pd\n",
    "import seaborn as sns  #用于绘制热图的工具包\n",
    "from scipy.cluster import hierarchy  #用于进行层次聚类，话层次聚类图的工具包\n",
    "from scipy import cluster   \n",
    "import matplotlib.pyplot as plt\n",
    "from sklearn import decomposition as skldec #用于主成分分析降维的包\n",
    "import numpy as np\n",
    "#import csv\n",
    "import math\n",
    "from pandas import Series,DataFrame\n",
    "from matplotlib.ticker import  MultipleLocator\n",
    "from scipy.interpolate import lagrange##插值处理"
   ]
  },
  {
   "cell_type": "code",
   "execution_count": 25,
   "metadata": {},
   "outputs": [],
   "source": [
    "data = pd.read_excel('E:/vcdata/VCAndGDP(GDP2).xlsx')\n",
    "data = data.fillna(0)\n",
    "data2 = pd.read_excel('E:/vcdata/VCAndGDP(GDPployin).xlsx')\n",
    "data2 = data2.fillna(0)"
   ]
  },
  {
   "cell_type": "code",
   "execution_count": 22,
   "metadata": {},
   "outputs": [],
   "source": [
    "def get_data(data,name1,name2,c2):\n",
    "    city = data['cityPin']\n",
    "    col_1 = data[name1]\n",
    "    col_2 = data[name2]\n",
    "    dfyear = pd.DataFrame(columns=['#cityPin',name1,c2])\n",
    "    dfyear['#cityPin'] = city\n",
    "    dfyear[name1] = col_1\n",
    "    dfyear[c2] = col_2\n",
    "    return(dfyear)"
   ]
  },
  {
   "cell_type": "code",
   "execution_count": 23,
   "metadata": {},
   "outputs": [],
   "source": [
    "a = np.arange(2000,2018)\n",
    "pop = [str(i)+'Pop' for i in a]\n",
    "investment = [str(i)+'总投资金额(M)' for i in a]\n",
    "inv_times = [str(i)+'总投资次数' for i in a]\n",
    "investment2 = [str(i)+'Amount(M)' for i in a]\n",
    "inv_times2 = [str(i)+'Times' for i in a]\n",
    "gdp = [str(i)+'GDP' for i in a]"
   ]
  },
  {
   "cell_type": "code",
   "execution_count": 24,
   "metadata": {},
   "outputs": [],
   "source": [
    "filename1 = ['pop_amount_'+str(yy)+'.txt' for yy in range(2000,2018)]\n",
    "filename2 = ['pop_times_'+str(yy)+'.txt' for yy in range(2000,2018)]\n",
    "filename3 = ['pop_GDP_'+str(yy)+'.txt' for yy in range(2000,2018)]\n",
    "for i in range(18):\n",
    "    df1 = get_data(data,pop[i],investment[i],investment2[i])\n",
    "    df2 = get_data(data,pop[i],inv_times[i],inv_times2[i])\n",
    "    df3 = get_data(data,pop[i],gdp[i],gdp[i])\n",
    "    df1.to_csv('E:/vcdata/yeardata/'+ filename1[i], sep='\\t', index=False)\n",
    "    df2.to_csv('E:/vcdata/yeardata/'+ filename2[i], sep='\\t', index=False)\n",
    "    df3.to_csv('E:/vcdata/yeardata/'+ filename3[i], sep='\\t', index=False)"
   ]
  },
  {
   "cell_type": "code",
   "execution_count": 26,
   "metadata": {},
   "outputs": [],
   "source": [
    "for i in range(18):\n",
    "    df1 = get_data(data2,pop[i],investment[i],investment2[i])\n",
    "    df2 = get_data(data2,pop[i],inv_times[i],inv_times2[i])\n",
    "    df3 = get_data(data2,pop[i],gdp[i],gdp[i])\n",
    "    df1.to_csv('E:/vcdata/yeardataploy/'+ filename1[i], sep='\\t', index=False)\n",
    "    df2.to_csv('E:/vcdata/yeardataploy/'+ filename2[i], sep='\\t', index=False)\n",
    "    df3.to_csv('E:/vcdata/yeardataploy/'+ filename3[i], sep='\\t', index=False)"
   ]
  },
  {
   "cell_type": "code",
   "execution_count": null,
   "metadata": {},
   "outputs": [],
   "source": []
  }
 ],
 "metadata": {
  "kernelspec": {
   "display_name": "Python 3",
   "language": "python",
   "name": "python3"
  },
  "language_info": {
   "codemirror_mode": {
    "name": "ipython",
    "version": 3
   },
   "file_extension": ".py",
   "mimetype": "text/x-python",
   "name": "python",
   "nbconvert_exporter": "python",
   "pygments_lexer": "ipython3",
   "version": "3.6.5"
  }
 },
 "nbformat": 4,
 "nbformat_minor": 2
}
