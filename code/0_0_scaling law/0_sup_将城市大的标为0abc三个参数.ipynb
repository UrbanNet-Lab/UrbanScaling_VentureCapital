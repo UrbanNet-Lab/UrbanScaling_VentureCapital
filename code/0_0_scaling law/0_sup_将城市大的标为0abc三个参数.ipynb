{
 "cells": [
  {
   "cell_type": "code",
   "execution_count": 1,
   "metadata": {},
   "outputs": [],
   "source": [
    "#关于文档的一个数据分类\n",
    "import pandas as pd\n",
    "import seaborn as sns  #用于绘制热图的工具包\n",
    "from scipy.cluster import hierarchy  #用于进行层次聚类，话层次聚类图的工具包\n",
    "from scipy import cluster   \n",
    "import matplotlib.pyplot as plt\n",
    "from sklearn import decomposition as skldec #用于主成分分析降维的包\n",
    "import numpy as np\n",
    "#import csv\n",
    "import math\n",
    "from pandas import Series,DataFrame\n",
    "from matplotlib.ticker import  MultipleLocator\n",
    "import pylab as pl   #画图用\n",
    "from sklearn import svm\n",
    "from sklearn import linear_model"
   ]
  },
  {
   "cell_type": "code",
   "execution_count": 2,
   "metadata": {},
   "outputs": [],
   "source": [
    "data = pd.read_excel('E:/vcdata/data/ALL_Intersection.xlsx')"
   ]
  },
  {
   "cell_type": "code",
   "execution_count": 3,
   "metadata": {},
   "outputs": [
    {
     "name": "stderr",
     "output_type": "stream",
     "text": [
      "D:\\Users\\lu\\Anaconda3\\lib\\site-packages\\ipykernel_launcher.py:6: SettingWithCopyWarning: \n",
      "A value is trying to be set on a copy of a slice from a DataFrame\n",
      "\n",
      "See the caveats in the documentation: http://pandas.pydata.org/pandas-docs/stable/indexing.html#indexing-view-versus-copy\n",
      "  \n",
      "D:\\Users\\lu\\Anaconda3\\lib\\site-packages\\ipykernel_launcher.py:8: SettingWithCopyWarning: \n",
      "A value is trying to be set on a copy of a slice from a DataFrame\n",
      "\n",
      "See the caveats in the documentation: http://pandas.pydata.org/pandas-docs/stable/indexing.html#indexing-view-versus-copy\n",
      "  \n"
     ]
    }
   ],
   "source": [
    "### 对城市进行分类，大城市记为1，非大城市记为0.\n",
    "pop17 = data['2017Pop'].values\n",
    "data['popType']=pop17\n",
    "for i in range(len(pop17)):\n",
    "        if pop17[i] < 550:\n",
    "            data['popType'][i]=1###小城市\n",
    "        else:\n",
    "            data['popType'][i]=0###特大城市"
   ]
  },
  {
   "cell_type": "code",
   "execution_count": 34,
   "metadata": {},
   "outputs": [
    {
     "name": "stderr",
     "output_type": "stream",
     "text": [
      "D:\\Users\\lu\\Anaconda3\\lib\\site-packages\\ipykernel_launcher.py:7: SettingWithCopyWarning: \n",
      "A value is trying to be set on a copy of a slice from a DataFrame\n",
      "\n",
      "See the caveats in the documentation: http://pandas.pydata.org/pandas-docs/stable/indexing.html#indexing-view-versus-copy\n",
      "  import sys\n",
      "D:\\Users\\lu\\Anaconda3\\lib\\site-packages\\ipykernel_launcher.py:8: SettingWithCopyWarning: \n",
      "A value is trying to be set on a copy of a slice from a DataFrame\n",
      "\n",
      "See the caveats in the documentation: http://pandas.pydata.org/pandas-docs/stable/indexing.html#indexing-view-versus-copy\n",
      "  \n",
      "D:\\Users\\lu\\Anaconda3\\lib\\site-packages\\ipykernel_launcher.py:10: SettingWithCopyWarning: \n",
      "A value is trying to be set on a copy of a slice from a DataFrame\n",
      "\n",
      "See the caveats in the documentation: http://pandas.pydata.org/pandas-docs/stable/indexing.html#indexing-view-versus-copy\n",
      "  # Remove the CWD from sys.path while we load stuff.\n",
      "D:\\Users\\lu\\Anaconda3\\lib\\site-packages\\ipykernel_launcher.py:11: SettingWithCopyWarning: \n",
      "A value is trying to be set on a copy of a slice from a DataFrame\n",
      "\n",
      "See the caveats in the documentation: http://pandas.pydata.org/pandas-docs/stable/indexing.html#indexing-view-versus-copy\n",
      "  # This is added back by InteractiveShellApp.init_path()\n"
     ]
    }
   ],
   "source": [
    "### 对城市进行分类，大城市记为1，非大城市记为0.\n",
    "pop17 = data['2017Pop'].values\n",
    "data['popType_0']=pop17\n",
    "data['popType_1']=pop17\n",
    "for i in range(len(pop17)):\n",
    "        if pop17[i] < 550:\n",
    "            data['popType_0'][i]=1###小城市\n",
    "            data['popType_1'][i]=0###小城市\n",
    "        else:\n",
    "            data['popType_0'][i]=0###特大城市\n",
    "            data['popType_1'][i]=1###特大城市"
   ]
  },
  {
   "cell_type": "code",
   "execution_count": 35,
   "metadata": {},
   "outputs": [],
   "source": [
    "a = np.arange(2000,2018)\n",
    "pop = [str(i)+'Pop' for i in a]\n",
    "investment = [str(i)+'总投资金额(M)' for i in a]\n",
    "inv_times = [str(i)+'总投资次数' for i in a]\n",
    "gdp = [str(i)+'GDP' for i in a]"
   ]
  },
  {
   "cell_type": "code",
   "execution_count": 36,
   "metadata": {},
   "outputs": [],
   "source": [
    "### 获得双对数的值 ，舍掉双对数中的0值###\n",
    "def get_log3(inv,g,DATA,name):\n",
    "    ### + 1e-5解决RuntimeWarning: divide by zero encountered in log10 This is separate from the ipykernel package so we can avoid doing imports until\n",
    "#     y_investment=np.log10(DATA[inv]+ 1e-5)\n",
    "#     y_gdp=np.log10(DATA[g]+ 1e-5)\n",
    "    y_investment=np.log10(DATA[inv])\n",
    "    y_gdp=np.log10(DATA[g])\n",
    "    y_investment2=y_investment.fillna(np.infty)\n",
    "    y_gdp2=y_gdp.fillna(np.infty)\n",
    "    types = DATA[name]\n",
    "    x1=[]\n",
    "    y1=[]\n",
    "    Types = []\n",
    "    for xi in range(len(y_investment2)):\n",
    "        if y_investment2[xi]==-float('Inf') or y_investment2[xi]==float('Inf') or y_gdp2[xi]==-float('Inf') or y_gdp2[xi]==float('Inf'):\n",
    "#             print('inf...')\n",
    "            continue\n",
    "#         elif xi>-4:\n",
    "        else:\n",
    "            x1.append(y_investment2[xi])\n",
    "            y1.append(y_gdp2[xi])\n",
    "            Types.append(types[xi]*y_investment2[xi])\n",
    "    return(x1,y1,Types)"
   ]
  },
  {
   "cell_type": "code",
   "execution_count": 37,
   "metadata": {},
   "outputs": [],
   "source": [
    "### 6.最小二乘拟合\n",
    "from scipy.optimize import leastsq  ##引入最小二乘法算法\n",
    "from sklearn.metrics import r2_score\n",
    "#需要拟合的函数func :指定函数的形状\n",
    "def func1(p,x,x2):\n",
    "    k,b,c=p\n",
    "    return k*x+b+c*x2\n",
    "def error1(p,x,y,x2,s):\n",
    "    return func1(p,x,x2)-y\n",
    "def pic6(yt):\n",
    "    yt1=yt[0]\n",
    "    yt2=yt[1]\n",
    "    yt3=yt[2]\n",
    "    #k,b的初始值，可以任意设定,经过几次试验，发现p0的值会影响cost的值：Para[1]\n",
    "    p0=[1,0,10]\n",
    "    Xi=np.array(yt1)\n",
    "    Yi=np.array(yt2)\n",
    "    I=np.array(yt3)\n",
    "    S='THE'\n",
    "    #把error函数中除了p0以外的参数打包到args中(使用要求)\n",
    "    Para=leastsq(error1,p0,args=(Xi,Yi,I,S))## 三个参数：误差函数、函数参数列表、数据点\n",
    "\n",
    "    #读取结果\n",
    "    k,b,c=Para[0]\n",
    "    y = []\n",
    "    for mm in range(len(yt1)):\n",
    "        y.append(k*yt1[mm]+b+c*yt3[mm])\n",
    "    y = [round(k*x+b+c*x,2) for x in yt1]\n",
    "    k1=round(k, 2)\n",
    "    r=r2_score(yt2,y)\n",
    "    r2=round(r, 2)\n",
    "    c=round(c, 2)\n",
    "    ### 检测显著性\n",
    "    #方差\n",
    "    sigma2=sum((y-beta0-beta1*x)**2)/(18)\n",
    "    #标准差\n",
    "    sigma=np.sqrt(sigma2)\n",
    "    #求t值\n",
    "    t=beta1*np.sqrt(x2)/sigma\n",
    "    print('t=',t)\n",
    "    #已知临界值求p值\n",
    "    p=stats.t.sf(t,18)\n",
    "    print('p=',p)\n",
    "\n",
    "    #输出检验结果\n",
    "    if p<0.05:\n",
    "        print ('the linear regression between x and y is significant')\n",
    "    else:\n",
    "        print('the linear regression between x and y is not significant')\n",
    "    return(k1,b,c,y)"
   ]
  },
  {
   "cell_type": "code",
   "execution_count": 38,
   "metadata": {},
   "outputs": [],
   "source": [
    "### 6.最小二乘拟合\n",
    "from scipy.optimize import leastsq  ##引入最小二乘法算法\n",
    "from sklearn.metrics import r2_score\n",
    "#需要拟合的函数func :指定函数的形状\n",
    "def func(p,x):\n",
    "    k,b=p\n",
    "    return k*x+b\n",
    "\n",
    "##偏差函数：x,y都是列表:这里的x,y更上面的Xi,Yi中是一一对应的\n",
    "def error(p,x,y):\n",
    "    return func(p,x)-y\n",
    "def pic(yt):\n",
    "    yt1=yt[0]\n",
    "    yt2=yt[1]\n",
    "    #k,b的初始值，可以任意设定,经过几次试验，发现p0的值会影响cost的值：Para[1]\n",
    "    p0=[1,10]\n",
    "    Xi=np.array(yt1)\n",
    "    Yi=np.array(yt2)\n",
    "    #把error函数中除了p0以外的参数打包到args中(使用要求)\n",
    "    Para=leastsq(error,p0,args=(Xi,Yi))## 三个参数：误差函数、函数参数列表、数据点\n",
    "\n",
    "    #读取结果\n",
    "    k,b=Para[0]\n",
    "    y = [round(k*x+b,2) for x in yt1]\n",
    "    k1=round(k, 2)\n",
    "    r=r2_score(yt2,y)\n",
    "    r2=round(r, 2)\n",
    "    .pvalues\n",
    "    return(k1)\n"
   ]
  },
  {
   "cell_type": "code",
   "execution_count": 68,
   "metadata": {},
   "outputs": [
    {
     "name": "stderr",
     "output_type": "stream",
     "text": [
      "D:\\Users\\lu\\Anaconda3\\lib\\site-packages\\ipykernel_launcher.py:7: RuntimeWarning: divide by zero encountered in log10\n",
      "  import sys\n"
     ]
    }
   ],
   "source": [
    "######## 所有年份所有数据分类，大城市为1，其他城市为0\n",
    "POP = []### 所有城市所有年份的人口\n",
    "AMount = []###所有城市所有年份的投资金额\n",
    "TYPE0 = []\n",
    "TYPE1=[]\n",
    "TimesB = []\n",
    "GDPB = []\n",
    "for i in range(18):\n",
    "    X11=pop[i]\n",
    "    X21=investment[i]\n",
    "    X22=inv_times[i]\n",
    "    X23=gdp[i]\n",
    "    Y1 = get_log3(X11,X21,data,'popType_0')\n",
    "    Y2 = get_log3(X11,X21,data,'popType_1')\n",
    "    Y22 = get_log3(X11,X21,data,'popType_1')\n",
    "    Y23 = get_log3(X11,X21,data,'popType_1')\n",
    "    POP += Y1[0]\n",
    "    AMount += Y1[1]\n",
    "    TYPE0 += Y1[2]\n",
    "    TYPE1 += Y2[2]\n",
    "    TimesB += Y22[1]\n",
    "    GDPB += Y23[1]\n",
    "#     Y_total = get_log(X11,X21,data)"
   ]
  },
  {
   "cell_type": "code",
   "execution_count": 45,
   "metadata": {},
   "outputs": [],
   "source": [
    "alpha_big0 = pic6([POP,AMount,TYPE0])[0]\n",
    "gama_big0 = pic6([POP,AMount,TYPE0])[2]\n",
    "alpha_total = pic([POP,AMount])\n",
    "\n",
    "alpha_big1 = pic6([POP,AMount,TYPE1])[0]\n",
    "gama_big1 = pic6([POP,AMount,TYPE1])[2]\n",
    "alpha_total2 = pic([POP,AMount,TYPE1][0:2])"
   ]
  },
  {
   "cell_type": "code",
   "execution_count": 46,
   "metadata": {},
   "outputs": [
    {
     "data": {
      "text/plain": [
       "(0.93, 0.14, 1.14, 1.07, -0.14, 1.14)"
      ]
     },
     "execution_count": 46,
     "metadata": {},
     "output_type": "execute_result"
    }
   ],
   "source": [
    "alpha_big1,gama_big1,alpha_total,alpha_big0,gama_big0,alpha_total"
   ]
  },
  {
   "cell_type": "code",
   "execution_count": 43,
   "metadata": {},
   "outputs": [
    {
     "data": {
      "text/plain": [
       "[0, 0]"
      ]
     },
     "execution_count": 43,
     "metadata": {},
     "output_type": "execute_result"
    }
   ],
   "source": [
    "[0]*2"
   ]
  },
  {
   "cell_type": "code",
   "execution_count": 69,
   "metadata": {},
   "outputs": [
    {
     "name": "stderr",
     "output_type": "stream",
     "text": [
      "D:\\Users\\lu\\Anaconda3\\lib\\site-packages\\ipykernel_launcher.py:7: RuntimeWarning: divide by zero encountered in log10\n",
      "  import sys\n"
     ]
    }
   ],
   "source": [
    "######## 所有年份所有数据分类，大城市为1，其他城市为0\n",
    "POP = []### 所有城市所有年份的人口\n",
    "AMount = []###所有城市所有年份的投资金额\n",
    "TYPEyear0 = []\n",
    "TYPEyear1=[]\n",
    "Times = []\n",
    "GDP = []\n",
    "a = np.arange(2000,2018)\n",
    "yearType = [str(i)+'yearType0' for i in a]### 2013年之前的为0\n",
    "yearType2 = [str(i)+'yearType1' for i in a]###2013年之前的为1\n",
    "for i in range(18):\n",
    "    if i<13:\n",
    "        data[yearType[i]] = [0]*data.shape[0]\n",
    "        data[yearType2[i]] = [1]*data.shape[0]\n",
    "    else:\n",
    "        data[yearType[i]] = [1]*data.shape[0]\n",
    "        data[yearType2[i]] = [0]*data.shape[0]\n",
    "    X11=pop[i]\n",
    "    X21=investment[i]\n",
    "    X22=inv_times[i]\n",
    "    X23=gdp[i]\n",
    "    Y1 = get_log3(X11,X21,data,yearType[i])\n",
    "    Y2 = get_log3(X11,X21,data,yearType2[i])\n",
    "    Y12 = get_log3(X11,X22,data,yearType[i])\n",
    "    Y13 = get_log3(X11,X23,data,yearType2[i])\n",
    "    POP += Y1[0]\n",
    "    AMount += Y1[1]\n",
    "    TYPEyear0 += Y1[2]\n",
    "    TYPEyear1 += Y2[2]\n",
    "    Times += Y12[1]\n",
    "    GDP += Y13[1]\n",
    "#     Y_total = get_log(X11,X21,data)"
   ]
  },
  {
   "cell_type": "code",
   "execution_count": 51,
   "metadata": {},
   "outputs": [],
   "source": [
    "alpha_year0 = pic6([POP,AMount,TYPEyear0])[0]\n",
    "gama_year0 = pic6([POP,AMount,TYPEyear0])[2]\n",
    "alpha_total = pic([POP,AMount])\n",
    "\n",
    "alpha_year1 = pic6([POP,AMount,TYPEyear1])[0]\n",
    "gama_year1 = pic6([POP,AMount,TYPEyear1])[2]\n",
    "alpha_total2 = pic([POP,AMount,TYPEyear1][0:2])"
   ]
  },
  {
   "cell_type": "code",
   "execution_count": 52,
   "metadata": {},
   "outputs": [
    {
     "data": {
      "text/plain": [
       "1.14"
      ]
     },
     "execution_count": 52,
     "metadata": {},
     "output_type": "execute_result"
    }
   ],
   "source": [
    "alpha_total2"
   ]
  },
  {
   "cell_type": "code",
   "execution_count": 58,
   "metadata": {},
   "outputs": [],
   "source": [
    "df = pd.DataFrame()\n",
    "df['alpha_total'] = [alpha_total]\n",
    "df['alpha_big0'] =alpha_big0\n",
    "df['gama_big0'] = gama_big0\n",
    "df['alpha_big1'] = alpha_big1\n",
    "df['gama_big1'] = gama_big1\n",
    "df['alpha_year0'] =alpha_year0\n",
    "df['gama_year0'] = gama_year0\n",
    "df['alpha_year1'] = alpha_year1\n",
    "df['gama_year1'] = gama_year1"
   ]
  },
  {
   "cell_type": "code",
   "execution_count": 59,
   "metadata": {},
   "outputs": [
    {
     "data": {
      "text/html": [
       "<div>\n",
       "<style scoped>\n",
       "    .dataframe tbody tr th:only-of-type {\n",
       "        vertical-align: middle;\n",
       "    }\n",
       "\n",
       "    .dataframe tbody tr th {\n",
       "        vertical-align: top;\n",
       "    }\n",
       "\n",
       "    .dataframe thead th {\n",
       "        text-align: right;\n",
       "    }\n",
       "</style>\n",
       "<table border=\"1\" class=\"dataframe\">\n",
       "  <thead>\n",
       "    <tr style=\"text-align: right;\">\n",
       "      <th></th>\n",
       "      <th>alpha_total</th>\n",
       "      <th>alpha_big0</th>\n",
       "      <th>gama_big0</th>\n",
       "      <th>alpha_big1</th>\n",
       "      <th>gama_big1</th>\n",
       "      <th>alpha_year0</th>\n",
       "      <th>gama_year0</th>\n",
       "      <th>alpha_year1</th>\n",
       "      <th>gama_year1</th>\n",
       "    </tr>\n",
       "  </thead>\n",
       "  <tbody>\n",
       "    <tr>\n",
       "      <th>0</th>\n",
       "      <td>1.14</td>\n",
       "      <td>1.07</td>\n",
       "      <td>-0.14</td>\n",
       "      <td>0.93</td>\n",
       "      <td>0.14</td>\n",
       "      <td>1.17</td>\n",
       "      <td>-0.07</td>\n",
       "      <td>1.11</td>\n",
       "      <td>0.07</td>\n",
       "    </tr>\n",
       "  </tbody>\n",
       "</table>\n",
       "</div>"
      ],
      "text/plain": [
       "   alpha_total  alpha_big0  gama_big0  alpha_big1  gama_big1  alpha_year0  \\\n",
       "0         1.14        1.07      -0.14        0.93       0.14         1.17   \n",
       "\n",
       "   gama_year0  alpha_year1  gama_year1  \n",
       "0       -0.07         1.11        0.07  "
      ]
     },
     "execution_count": 59,
     "metadata": {},
     "output_type": "execute_result"
    }
   ],
   "source": [
    "df"
   ]
  },
  {
   "cell_type": "code",
   "execution_count": 55,
   "metadata": {},
   "outputs": [
    {
     "data": {
      "text/plain": [
       "1.14"
      ]
     },
     "execution_count": 55,
     "metadata": {},
     "output_type": "execute_result"
    }
   ],
   "source": [
    "alpha_total"
   ]
  },
  {
   "cell_type": "code",
   "execution_count": 60,
   "metadata": {},
   "outputs": [
    {
     "data": {
      "text/plain": [
       "'2012Pop'"
      ]
     },
     "execution_count": 60,
     "metadata": {},
     "output_type": "execute_result"
    }
   ],
   "source": [
    "pop[12]"
   ]
  },
  {
   "cell_type": "code",
   "execution_count": 61,
   "metadata": {},
   "outputs": [],
   "source": [
    "###############"
   ]
  },
  {
   "cell_type": "code",
   "execution_count": 62,
   "metadata": {},
   "outputs": [],
   "source": [
    "d = []\n",
    "d2 = []\n",
    "for i in range(len(POP)):\n",
    "    c = []\n",
    "    c2 = []\n",
    "    c.append(POP[i])\n",
    "    c.append(TYPEyear1[i])\n",
    "    d.append(c)\n",
    "    c2.append(POP[i])\n",
    "    c2.append(TYPE1[i])\n",
    "    d2.append(c2)\n"
   ]
  },
  {
   "cell_type": "code",
   "execution_count": 63,
   "metadata": {},
   "outputs": [],
   "source": [
    "regr = linear_model.LinearRegression()\n",
    "regr.fit(d,AMount)\n",
    "k = regr.coef_\n",
    "b = regr.intercept_\n",
    "pred = regr.predict(d)"
   ]
  },
  {
   "cell_type": "code",
   "execution_count": 64,
   "metadata": {},
   "outputs": [
    {
     "data": {
      "text/plain": [
       "array([3.20294569, 3.16527814, 2.54041273, ..., 1.38525495, 1.49331599,\n",
       "       1.53693479])"
      ]
     },
     "execution_count": 64,
     "metadata": {},
     "output_type": "execute_result"
    }
   ],
   "source": [
    "pred"
   ]
  },
  {
   "cell_type": "code",
   "execution_count": 65,
   "metadata": {},
   "outputs": [
    {
     "data": {
      "text/plain": [
       "(array([1.1076989 , 0.06638529]), -0.2867848132231492)"
      ]
     },
     "execution_count": 65,
     "metadata": {},
     "output_type": "execute_result"
    }
   ],
   "source": [
    "import statsmodels.api as sm\n",
    "mod = sm.OLS(Y,X)\n",
    "fii = mod.fit()\n",
    "p_values = fii.summary2().tables[1]['P>|t|']"
   ]
  },
  {
   "cell_type": "code",
   "execution_count": 79,
   "metadata": {},
   "outputs": [
    {
     "data": {
      "text/plain": [
       "LinearRegression(copy_X=True, fit_intercept=True, n_jobs=None, normalize=False)"
      ]
     },
     "execution_count": 79,
     "metadata": {},
     "output_type": "execute_result"
    }
   ],
   "source": [
    "import sklearn\n",
    "from sklearn import linear_model\n",
    "lm = sklearn.linear_model.LinearRegression()\n",
    "lm.fit(d,AMount)"
   ]
  },
  {
   "cell_type": "code",
   "execution_count": null,
   "metadata": {},
   "outputs": [],
   "source": [
    "##########################################################"
   ]
  },
  {
   "cell_type": "code",
   "execution_count": 66,
   "metadata": {},
   "outputs": [],
   "source": [
    "######### 得到均值这些数据 #########"
   ]
  },
  {
   "cell_type": "code",
   "execution_count": 70,
   "metadata": {},
   "outputs": [],
   "source": [
    "#### 计算所有年amount、times、GDP的均值之类的指标\n",
    "def getmean(amount):\n",
    "    df = pd.DataFrame()\n",
    "    df['amount'] = amount\n",
    "    size = (df.shape[0] - (df == 0).astype(int).sum(axis=0)).values\n",
    "    mean = df.mean(axis=0).values\n",
    "    SD = df.std(axis=0).values\n",
    "    maxvalues = df.max(axis=0).values\n",
    "    minvalues = df.min(axis=0).values\n",
    "    return(size,mean,SD,maxvalues,minvalues)"
   ]
  },
  {
   "cell_type": "code",
   "execution_count": 74,
   "metadata": {},
   "outputs": [],
   "source": [
    "dataAmount = getmean(AMount)\n",
    "dataTimes = getmean(Times)\n",
    "dataGDP = getmean(GDP)"
   ]
  },
  {
   "cell_type": "code",
   "execution_count": 73,
   "metadata": {},
   "outputs": [],
   "source": [
    "dataAmount = getmean(AMount)\n",
    "dataTimesB = getmean(TimesB)\n",
    "dataGDPB = getmean(GDPB)"
   ]
  },
  {
   "cell_type": "code",
   "execution_count": 75,
   "metadata": {},
   "outputs": [
    {
     "data": {
      "text/plain": [
       "((array([1357], dtype=int64),\n",
       "  array([0.56914928]),\n",
       "  array([0.58867056]),\n",
       "  array([3.25767857]),\n",
       "  array([0.])),\n",
       " (array([4790], dtype=int64),\n",
       "  array([6.47905135]),\n",
       "  array([0.58227495]),\n",
       "  array([8.48618939]),\n",
       "  array([5.01639395])))"
      ]
     },
     "execution_count": 75,
     "metadata": {},
     "output_type": "execute_result"
    }
   ],
   "source": [
    "dataTimes,dataGDP,"
   ]
  },
  {
   "cell_type": "code",
   "execution_count": 76,
   "metadata": {},
   "outputs": [
    {
     "data": {
      "text/plain": [
       "((array([1772], dtype=int64),\n",
       "  array([2.07630025]),\n",
       "  array([0.87196514]),\n",
       "  array([5.03333742]),\n",
       "  array([-0.76654698])),\n",
       " (array([1772], dtype=int64),\n",
       "  array([2.07630025]),\n",
       "  array([0.87196514]),\n",
       "  array([5.03333742]),\n",
       "  array([-0.76654698])))"
      ]
     },
     "execution_count": 76,
     "metadata": {},
     "output_type": "execute_result"
    }
   ],
   "source": [
    "dataTimesB,dataGDPB"
   ]
  },
  {
   "cell_type": "code",
   "execution_count": null,
   "metadata": {},
   "outputs": [],
   "source": []
  }
 ],
 "metadata": {
  "kernelspec": {
   "display_name": "Python 3",
   "language": "python",
   "name": "python3"
  },
  "language_info": {
   "codemirror_mode": {
    "name": "ipython",
    "version": 3
   },
   "file_extension": ".py",
   "mimetype": "text/x-python",
   "name": "python",
   "nbconvert_exporter": "python",
   "pygments_lexer": "ipython3",
   "version": "3.6.5"
  }
 },
 "nbformat": 4,
 "nbformat_minor": 2
}
