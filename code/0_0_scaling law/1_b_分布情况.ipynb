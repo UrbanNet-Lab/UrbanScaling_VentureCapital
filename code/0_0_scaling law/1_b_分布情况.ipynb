{
 "cells": [
  {
   "cell_type": "code",
   "execution_count": 14,
   "metadata": {},
   "outputs": [],
   "source": [
    "#关于文档的一个数据分类\n",
    "import pandas as pd\n",
    "import seaborn as sns  #用于绘制热图的工具包\n",
    "from scipy.cluster import hierarchy  #用于进行层次聚类，话层次聚类图的工具包\n",
    "from scipy import cluster   \n",
    "import matplotlib.pyplot as plt\n",
    "from sklearn import decomposition as skldec #用于主成分分析降维的包\n",
    "import numpy as np\n",
    "#import csv\n",
    "import math\n",
    "from pandas import Series,DataFrame\n",
    "from matplotlib.ticker import  MultipleLocator\n",
    "from scipy.interpolate import lagrange##插值处理"
   ]
  },
  {
   "cell_type": "code",
   "execution_count": 15,
   "metadata": {},
   "outputs": [],
   "source": [
    "data = pd.read_excel('E:/vcdata/VCAndGDP(GDP2).xlsx') ###GDP ！= null\n",
    "data2 = pd.read_excel('E:/vcdata/VCAndGDP(GDPployin).xlsx') ###GDP ！= null"
   ]
  },
  {
   "cell_type": "code",
   "execution_count": 16,
   "metadata": {},
   "outputs": [
    {
     "data": {
      "text/html": [
       "<div>\n",
       "<style scoped>\n",
       "    .dataframe tbody tr th:only-of-type {\n",
       "        vertical-align: middle;\n",
       "    }\n",
       "\n",
       "    .dataframe tbody tr th {\n",
       "        vertical-align: top;\n",
       "    }\n",
       "\n",
       "    .dataframe thead th {\n",
       "        text-align: right;\n",
       "    }\n",
       "</style>\n",
       "<table border=\"1\" class=\"dataframe\">\n",
       "  <thead>\n",
       "    <tr style=\"text-align: right;\">\n",
       "      <th></th>\n",
       "      <th>1991总投资金额(M)</th>\n",
       "      <th>1992总投资金额(M)</th>\n",
       "      <th>1993总投资金额(M)</th>\n",
       "      <th>1994总投资金额(M)</th>\n",
       "      <th>1995总投资金额(M)</th>\n",
       "      <th>1996总投资金额(M)</th>\n",
       "      <th>1997总投资金额(M)</th>\n",
       "      <th>1998总投资金额(M)</th>\n",
       "      <th>1999总投资金额(M)</th>\n",
       "      <th>2000总投资金额(M)</th>\n",
       "      <th>...</th>\n",
       "      <th>2008总投资金额(M)</th>\n",
       "      <th>2009总投资金额(M)</th>\n",
       "      <th>2010总投资金额(M)</th>\n",
       "      <th>2011总投资金额(M)</th>\n",
       "      <th>2012总投资金额(M)</th>\n",
       "      <th>2013总投资金额(M)</th>\n",
       "      <th>2014总投资金额(M)</th>\n",
       "      <th>2015总投资金额(M)</th>\n",
       "      <th>2016总投资金额(M)</th>\n",
       "      <th>2017总投资金额(M)</th>\n",
       "    </tr>\n",
       "  </thead>\n",
       "  <tbody>\n",
       "    <tr>\n",
       "      <th>0</th>\n",
       "      <td>NaN</td>\n",
       "      <td>NaN</td>\n",
       "      <td>NaN</td>\n",
       "      <td>NaN</td>\n",
       "      <td>NaN</td>\n",
       "      <td>NaN</td>\n",
       "      <td>NaN</td>\n",
       "      <td>NaN</td>\n",
       "      <td>NaN</td>\n",
       "      <td>NaN</td>\n",
       "      <td>...</td>\n",
       "      <td>NaN</td>\n",
       "      <td>463.6</td>\n",
       "      <td>NaN</td>\n",
       "      <td>600.0</td>\n",
       "      <td>NaN</td>\n",
       "      <td>0.0</td>\n",
       "      <td>NaN</td>\n",
       "      <td>NaN</td>\n",
       "      <td>43.6</td>\n",
       "      <td>NaN</td>\n",
       "    </tr>\n",
       "  </tbody>\n",
       "</table>\n",
       "<p>1 rows × 27 columns</p>\n",
       "</div>"
      ],
      "text/plain": [
       "   1991总投资金额(M)  1992总投资金额(M)  1993总投资金额(M)  1994总投资金额(M)  1995总投资金额(M)  \\\n",
       "0           NaN           NaN           NaN           NaN           NaN   \n",
       "\n",
       "   1996总投资金额(M)  1997总投资金额(M)  1998总投资金额(M)  1999总投资金额(M)  2000总投资金额(M)  \\\n",
       "0           NaN           NaN           NaN           NaN           NaN   \n",
       "\n",
       "       ...       2008总投资金额(M)  2009总投资金额(M)  2010总投资金额(M)  2011总投资金额(M)  \\\n",
       "0      ...                NaN         463.6           NaN         600.0   \n",
       "\n",
       "   2012总投资金额(M)  2013总投资金额(M)  2014总投资金额(M)  2015总投资金额(M)  2016总投资金额(M)  \\\n",
       "0           NaN           0.0           NaN           NaN          43.6   \n",
       "\n",
       "   2017总投资金额(M)  \n",
       "0           NaN  \n",
       "\n",
       "[1 rows x 27 columns]"
      ]
     },
     "execution_count": 16,
     "metadata": {},
     "output_type": "execute_result"
    }
   ],
   "source": [
    "data.iloc[0:1,3:3+27] "
   ]
  },
  {
   "cell_type": "code",
   "execution_count": 17,
   "metadata": {},
   "outputs": [],
   "source": [
    "dataAmount = data.iloc[:,3:3+27] ###amount\n",
    "AmountFind = []\n",
    "Amount0 = []\n",
    "AmountUnknown = []\n",
    "for i in dataAmount.columns:\n",
    "    amountFind = 0\n",
    "    amount0 = 0\n",
    "    amountUnknown = 0\n",
    "    for j in range(dataAmount.shape[0]):\n",
    "        if dataAmount[i][j] == 0:\n",
    "            amount0 += 1\n",
    "        elif math.isnan(dataAmount[i][j]):\n",
    "            amountUnknown += 1\n",
    "        else:\n",
    "            amountFind += 1\n",
    "    AmountFind.append(amountFind)\n",
    "    Amount0.append(amount0)\n",
    "    AmountUnknown.append(amountUnknown)"
   ]
  },
  {
   "cell_type": "code",
   "execution_count": 18,
   "metadata": {},
   "outputs": [
    {
     "data": {
      "text/plain": [
       "(81, 276)"
      ]
     },
     "execution_count": 18,
     "metadata": {},
     "output_type": "execute_result"
    }
   ],
   "source": [
    "len(AmountFind + AmountUnknown + Amount0),dataAmount.shape[0]"
   ]
  },
  {
   "cell_type": "code",
   "execution_count": 19,
   "metadata": {},
   "outputs": [
    {
     "data": {
      "image/png": "[encoded data removed]",
      "text/plain": [
       "<Figure size 504x432 with 1 Axes>"
      ]
     },
     "metadata": {},
     "output_type": "display_data"
    }
   ],
   "source": [
    "plt.figure(figsize=(7,6))\n",
    "plt.xlabel('year',fontsize=16)\n",
    "plt.ylabel('# city',fontsize=16)\n",
    "plt.tick_params(labelsize=16) #刻度字体大小13\n",
    "x = np.arange(1991,2018)\n",
    "for i in range(27):\n",
    "    plt.bar(x,AmountFind, zorder=4) \n",
    "    plt.bar(x,[AmountFind[i] + AmountUnknown[i] for i in range(len(AmountUnknown))], zorder=3) \n",
    "    plt.bar(x,[AmountFind[i] + AmountUnknown[i] +Amount0[i] for i in range(27)], zorder=2) \n",
    "plt.text(2019,50,'AmountFind')\n",
    "plt.text(2019,200,'Amount0')\n",
    "plt.text(2019,270,'AmountUnknown')\n",
    "plt.savefig('E:/vcdata/pic/picSCLaw/Supplementary Fig6a.pdf', bbox_inches='tight')\n",
    "plt.show()"
   ]
  },
  {
   "cell_type": "code",
   "execution_count": 21,
   "metadata": {},
   "outputs": [
    {
     "data": {
      "text/html": [
       "<div>\n",
       "<style scoped>\n",
       "    .dataframe tbody tr th:only-of-type {\n",
       "        vertical-align: middle;\n",
       "    }\n",
       "\n",
       "    .dataframe tbody tr th {\n",
       "        vertical-align: top;\n",
       "    }\n",
       "\n",
       "    .dataframe thead th {\n",
       "        text-align: right;\n",
       "    }\n",
       "</style>\n",
       "<table border=\"1\" class=\"dataframe\">\n",
       "  <thead>\n",
       "    <tr style=\"text-align: right;\">\n",
       "      <th></th>\n",
       "      <th>1991总投资金额(M)</th>\n",
       "      <th>1992总投资金额(M)</th>\n",
       "      <th>1993总投资金额(M)</th>\n",
       "      <th>1994总投资金额(M)</th>\n",
       "      <th>1995总投资金额(M)</th>\n",
       "      <th>1996总投资金额(M)</th>\n",
       "      <th>1997总投资金额(M)</th>\n",
       "      <th>1998总投资金额(M)</th>\n",
       "      <th>1999总投资金额(M)</th>\n",
       "      <th>2000总投资金额(M)</th>\n",
       "      <th>...</th>\n",
       "      <th>2008总投资金额(M)</th>\n",
       "      <th>2009总投资金额(M)</th>\n",
       "      <th>2010总投资金额(M)</th>\n",
       "      <th>2011总投资金额(M)</th>\n",
       "      <th>2012总投资金额(M)</th>\n",
       "      <th>2013总投资金额(M)</th>\n",
       "      <th>2014总投资金额(M)</th>\n",
       "      <th>2015总投资金额(M)</th>\n",
       "      <th>2016总投资金额(M)</th>\n",
       "      <th>2017总投资金额(M)</th>\n",
       "    </tr>\n",
       "  </thead>\n",
       "  <tbody>\n",
       "    <tr>\n",
       "      <th>0</th>\n",
       "      <td>NaN</td>\n",
       "      <td>NaN</td>\n",
       "      <td>NaN</td>\n",
       "      <td>NaN</td>\n",
       "      <td>NaN</td>\n",
       "      <td>NaN</td>\n",
       "      <td>NaN</td>\n",
       "      <td>NaN</td>\n",
       "      <td>NaN</td>\n",
       "      <td>NaN</td>\n",
       "      <td>...</td>\n",
       "      <td>NaN</td>\n",
       "      <td>463.6</td>\n",
       "      <td>531.8</td>\n",
       "      <td>600.0</td>\n",
       "      <td>NaN</td>\n",
       "      <td>0.0</td>\n",
       "      <td>NaN</td>\n",
       "      <td>NaN</td>\n",
       "      <td>43.6</td>\n",
       "      <td>NaN</td>\n",
       "    </tr>\n",
       "  </tbody>\n",
       "</table>\n",
       "<p>1 rows × 27 columns</p>\n",
       "</div>"
      ],
      "text/plain": [
       "   1991总投资金额(M)  1992总投资金额(M)  1993总投资金额(M)  1994总投资金额(M)  1995总投资金额(M)  \\\n",
       "0           NaN           NaN           NaN           NaN           NaN   \n",
       "\n",
       "   1996总投资金额(M)  1997总投资金额(M)  1998总投资金额(M)  1999总投资金额(M)  2000总投资金额(M)  \\\n",
       "0           NaN           NaN           NaN           NaN           NaN   \n",
       "\n",
       "       ...       2008总投资金额(M)  2009总投资金额(M)  2010总投资金额(M)  2011总投资金额(M)  \\\n",
       "0      ...                NaN         463.6         531.8         600.0   \n",
       "\n",
       "   2012总投资金额(M)  2013总投资金额(M)  2014总投资金额(M)  2015总投资金额(M)  2016总投资金额(M)  \\\n",
       "0           NaN           0.0           NaN           NaN          43.6   \n",
       "\n",
       "   2017总投资金额(M)  \n",
       "0           NaN  \n",
       "\n",
       "[1 rows x 27 columns]"
      ]
     },
     "execution_count": 21,
     "metadata": {},
     "output_type": "execute_result"
    }
   ],
   "source": [
    "data2.iloc[0:1,3:3+27]"
   ]
  },
  {
   "cell_type": "code",
   "execution_count": 22,
   "metadata": {},
   "outputs": [],
   "source": [
    "dataAmount = data2.iloc[:,3:3+27] ###amount\n",
    "AmountFind = []\n",
    "Amount0 = []\n",
    "AmountUnknown = []\n",
    "for i in dataAmount.columns:\n",
    "    amountFind = 0\n",
    "    amount0 = 0\n",
    "    amountUnknown = 0\n",
    "    for j in range(dataAmount.shape[0]):\n",
    "        if dataAmount[i][j] == 0:\n",
    "            amount0 += 1\n",
    "        elif math.isnan(dataAmount[i][j]):\n",
    "            amountUnknown += 1\n",
    "        else:\n",
    "            amountFind += 1\n",
    "    AmountFind.append(amountFind)\n",
    "    Amount0.append(amount0)\n",
    "    AmountUnknown.append(amountUnknown)"
   ]
  },
  {
   "cell_type": "code",
   "execution_count": 23,
   "metadata": {},
   "outputs": [
    {
     "data": {
      "image/png": "[encoded data removed]",
      "text/plain": [
       "<Figure size 504x432 with 1 Axes>"
      ]
     },
     "metadata": {},
     "output_type": "display_data"
    }
   ],
   "source": [
    "plt.figure(figsize=(7,6))\n",
    "plt.xlabel('year',fontsize=16)\n",
    "plt.ylabel('# city',fontsize=16)\n",
    "plt.tick_params(labelsize=16) #刻度字体大小13\n",
    "x = np.arange(1991,2018)\n",
    "for i in range(27):\n",
    "    plt.bar(x,AmountFind, zorder=4) \n",
    "    plt.bar(x,[AmountFind[i] + AmountUnknown[i] for i in range(len(AmountUnknown))], zorder=3) \n",
    "    plt.bar(x,[AmountFind[i] + AmountUnknown[i] +Amount0[i] for i in range(27)], zorder=2) \n",
    "plt.text(2019,50,'AmountFind')\n",
    "plt.text(2019,200,'Amount0')\n",
    "plt.text(2019,270,'AmountUnknown')\n",
    "plt.savefig('E:/vcdata/pic/picSCLaw/Supplementary Fig6b(插值）.pdf', bbox_inches='tight')\n",
    "plt.show()"
   ]
  },
  {
   "cell_type": "code",
   "execution_count": null,
   "metadata": {},
   "outputs": [],
   "source": []
  }
 ],
 "metadata": {
  "kernelspec": {
   "display_name": "Python 3",
   "language": "python",
   "name": "python3"
  },
  "language_info": {
   "codemirror_mode": {
    "name": "ipython",
    "version": 3
   },
   "file_extension": ".py",
   "mimetype": "text/x-python",
   "name": "python",
   "nbconvert_exporter": "python",
   "pygments_lexer": "ipython3",
   "version": "3.6.5"
  }
 },
 "nbformat": 4,
 "nbformat_minor": 2
}
