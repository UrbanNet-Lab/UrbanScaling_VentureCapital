{
 "cells": [
  {
   "cell_type": "code",
   "execution_count": 1,
   "metadata": {},
   "outputs": [],
   "source": [
    "#关于文档的一个数据分类\n",
    "import pandas as pd\n",
    "import seaborn as sns  #用于绘制热图的工具包\n",
    "from scipy.cluster import hierarchy  #用于进行层次聚类，画层次聚类图的工具包\n",
    "from scipy import cluster   \n",
    "import matplotlib.pyplot as plt\n",
    "from sklearn import decomposition as skldec #用于主成分分析降维的包\n",
    "import numpy as np\n",
    "#import csv\n",
    "import math\n",
    "from pandas import Series,DataFrame\n",
    "from matplotlib.ticker import  MultipleLocator\n",
    "import pylab as pl   #画图用\n",
    "from sklearn import svm\n",
    "from sklearn import linear_model"
   ]
  },
  {
   "cell_type": "code",
   "execution_count": 2,
   "metadata": {},
   "outputs": [],
   "source": [
    "data =pd.read_excel('E:/vcdata/data/ALL_Intersection.xlsx')  # 读取训练数据\n",
    "city=data['City'].drop_duplicates().values\n",
    "City=data['city'].drop_duplicates().values"
   ]
  },
  {
   "cell_type": "code",
   "execution_count": 3,
   "metadata": {},
   "outputs": [],
   "source": [
    "dataPOP=data.iloc[:,3+27*5:21+27*5].fillna(0)###获取POP的数据\n",
    "dataGDP=data.iloc[:,22+27*5:40+27*5].fillna(0)###获取GDP的数据\n",
    "dataM = data.iloc[:,12:30].fillna(0)###投资金额\n",
    "dataTimes = data.iloc[:,12+27:30+27].fillna(0)###投资次数"
   ]
  },
  {
   "cell_type": "code",
   "execution_count": 4,
   "metadata": {},
   "outputs": [
    {
     "data": {
      "text/html": [
       "<div>\n",
       "<style scoped>\n",
       "    .dataframe tbody tr th:only-of-type {\n",
       "        vertical-align: middle;\n",
       "    }\n",
       "\n",
       "    .dataframe tbody tr th {\n",
       "        vertical-align: top;\n",
       "    }\n",
       "\n",
       "    .dataframe thead th {\n",
       "        text-align: right;\n",
       "    }\n",
       "</style>\n",
       "<table border=\"1\" class=\"dataframe\">\n",
       "  <thead>\n",
       "    <tr style=\"text-align: right;\">\n",
       "      <th></th>\n",
       "      <th>2000总投资金额(M)</th>\n",
       "      <th>2001总投资金额(M)</th>\n",
       "      <th>2002总投资金额(M)</th>\n",
       "      <th>2003总投资金额(M)</th>\n",
       "      <th>2004总投资金额(M)</th>\n",
       "      <th>2005总投资金额(M)</th>\n",
       "      <th>2006总投资金额(M)</th>\n",
       "      <th>2007总投资金额(M)</th>\n",
       "      <th>2008总投资金额(M)</th>\n",
       "      <th>2009总投资金额(M)</th>\n",
       "      <th>2010总投资金额(M)</th>\n",
       "      <th>2011总投资金额(M)</th>\n",
       "      <th>2012总投资金额(M)</th>\n",
       "      <th>2013总投资金额(M)</th>\n",
       "      <th>2014总投资金额(M)</th>\n",
       "      <th>2015总投资金额(M)</th>\n",
       "      <th>2016总投资金额(M)</th>\n",
       "      <th>2017总投资金额(M)</th>\n",
       "    </tr>\n",
       "  </thead>\n",
       "  <tbody>\n",
       "    <tr>\n",
       "      <th>0</th>\n",
       "      <td>0.0</td>\n",
       "      <td>0.0</td>\n",
       "      <td>0.0</td>\n",
       "      <td>0.0</td>\n",
       "      <td>0.0</td>\n",
       "      <td>0.0</td>\n",
       "      <td>8.72638</td>\n",
       "      <td>0.0</td>\n",
       "      <td>0.0</td>\n",
       "      <td>463.6</td>\n",
       "      <td>0.0</td>\n",
       "      <td>600.0</td>\n",
       "      <td>0.0</td>\n",
       "      <td>0.0</td>\n",
       "      <td>0.0</td>\n",
       "      <td>0.0</td>\n",
       "      <td>43.6</td>\n",
       "      <td>0.0</td>\n",
       "    </tr>\n",
       "  </tbody>\n",
       "</table>\n",
       "</div>"
      ],
      "text/plain": [
       "   2000总投资金额(M)  2001总投资金额(M)  2002总投资金额(M)  2003总投资金额(M)  2004总投资金额(M)  \\\n",
       "0           0.0           0.0           0.0           0.0           0.0   \n",
       "\n",
       "   2005总投资金额(M)  2006总投资金额(M)  2007总投资金额(M)  2008总投资金额(M)  2009总投资金额(M)  \\\n",
       "0           0.0       8.72638           0.0           0.0         463.6   \n",
       "\n",
       "   2010总投资金额(M)  2011总投资金额(M)  2012总投资金额(M)  2013总投资金额(M)  2014总投资金额(M)  \\\n",
       "0           0.0         600.0           0.0           0.0           0.0   \n",
       "\n",
       "   2015总投资金额(M)  2016总投资金额(M)  2017总投资金额(M)  \n",
       "0           0.0          43.6           0.0  "
      ]
     },
     "execution_count": 4,
     "metadata": {},
     "output_type": "execute_result"
    }
   ],
   "source": [
    "dataM[0:1]"
   ]
  },
  {
   "cell_type": "code",
   "execution_count": 6,
   "metadata": {},
   "outputs": [
    {
     "data": {
      "image/png": "[encoded data removed]",
      "text/plain": [
       "<Figure size 504x432 with 1 Axes>"
      ]
     },
     "metadata": {},
     "output_type": "display_data"
    }
   ],
   "source": [
    "row=data.shape[0]\n",
    "from matplotlib.ticker import FuncFormatter   ### 今天的主角\n",
    "fig = plt.figure(figsize=(7,6))\n",
    "ax1 = fig.add_subplot(111)\n",
    "plt.rcParams['font.sans-serif']=['SimHei'] #用来正常显示中文标签\n",
    "x=np.arange(2000,2018,1)\n",
    "# y=dataM.count().values/211\n",
    "y = (row-(dataM == 0).astype(int).sum(axis=0))/row\n",
    "# plt.title('2000-2017年投资城市所占比例')\n",
    "font2 = {'family' : 'Arial',\n",
    "    'weight' : 'normal',\n",
    "    'size' : 22,\n",
    "    }###设置横纵坐标的字体格式\n",
    "plt.xlabel('year',font2)\n",
    "plt.ylabel('ration',font2)\n",
    "plt.tick_params(labelsize=16) #刻度字体大小13\n",
    "xmajorLocator = MultipleLocator(5)\n",
    "xminorLocator = MultipleLocator(1.0)\n",
    "y2=[0.5 for i in range(2000,2018)]\n",
    "\n",
    "def formatnum2(x, pos):\n",
    "    return '$%.0f$' % x\n",
    "formatter2 = FuncFormatter(formatnum2)\n",
    "ax1.xaxis.set_major_formatter(formatter2)\n",
    "\n",
    "plt.xlim(2000-1, 2018)\n",
    "plt.bar(x,y)\n",
    "plt.plot(x,y2,color='darkred',linestyle='--',linewidth=3)\n",
    "plt.savefig('E:/vcdata/pic/picSC/Fig0(city number percent).pdf')"
   ]
  },
  {
   "cell_type": "code",
   "execution_count": 7,
   "metadata": {},
   "outputs": [
    {
     "data": {
      "image/png": "[encoded data removed]",
      "text/plain": [
       "<Figure size 504x432 with 1 Axes>"
      ]
     },
     "metadata": {},
     "output_type": "display_data"
    }
   ],
   "source": [
    "from matplotlib.ticker import FuncFormatter   ### 今天的主角\n",
    "fig = plt.figure(figsize=(7,6))\n",
    "ax1 = fig.add_subplot(111)\n",
    "plt.rcParams['font.sans-serif']=['SimHei'] #用来正常显示中文标签\n",
    "x=np.arange(2000,2018,1)\n",
    "# y=dataM.count()\n",
    "y = row-(dataM == 0).astype(int).sum(axis=0)\n",
    "# plt.title('2000-2017年投资城市所占比例')\n",
    "font2 = {'family' : 'Arial',\n",
    "    'weight' : 'normal',\n",
    "    'size' : 22,\n",
    "    }###设置横纵坐标的字体格式\n",
    "plt.xlabel('year',font2)\n",
    "plt.ylabel('#city',font2)\n",
    "plt.tick_params(labelsize=16) #刻度字体大小13\n",
    "xmajorLocator = MultipleLocator(5)\n",
    "xminorLocator = MultipleLocator(1.0)\n",
    "y2=[row*0.5 for i in range(2000,2018)]\n",
    "\n",
    "def formatnum2(x, pos):\n",
    "    return '$%.0f$' % x\n",
    "formatter2 = FuncFormatter(formatnum2)\n",
    "ax1.xaxis.set_major_formatter(formatter2)\n",
    "\n",
    "plt.xlim(2000-1, 2018)\n",
    "plt.bar(x,y)\n",
    "plt.plot(x,y2,color='darkred',linestyle='--',linewidth=3)\n",
    "plt.savefig('E:/vcdata/pic/picSC/Fig0(city number).pdf')"
   ]
  },
  {
   "cell_type": "code",
   "execution_count": null,
   "metadata": {},
   "outputs": [],
   "source": []
  }
 ],
 "metadata": {
  "kernelspec": {
   "display_name": "Python 3",
   "language": "python",
   "name": "python3"
  },
  "language_info": {
   "codemirror_mode": {
    "name": "ipython",
    "version": 3
   },
   "file_extension": ".py",
   "mimetype": "text/x-python",
   "name": "python",
   "nbconvert_exporter": "python",
   "pygments_lexer": "ipython3",
   "version": "3.6.5"
  }
 },
 "nbformat": 4,
 "nbformat_minor": 2
}
