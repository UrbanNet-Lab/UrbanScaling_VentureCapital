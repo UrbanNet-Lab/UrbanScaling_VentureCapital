{
 "cells": [
  {
   "cell_type": "code",
   "execution_count": 7,
   "metadata": {},
   "outputs": [],
   "source": [
    "#关于文档的一个数据分类\n",
    "import pandas as pd\n",
    "import seaborn as sns  #用于绘制热图的工具包\n",
    "from scipy.cluster import hierarchy  #用于进行层次聚类，话层次聚类图的工具包\n",
    "from scipy import cluster   \n",
    "import matplotlib.pyplot as plt\n",
    "from sklearn import decomposition as skldec #用于主成分分析降维的包\n",
    "import numpy as np\n",
    "#import csv\n",
    "import math\n",
    "from pandas import Series,DataFrame\n",
    "from matplotlib.ticker import  MultipleLocator"
   ]
  },
  {
   "cell_type": "code",
   "execution_count": 8,
   "metadata": {},
   "outputs": [],
   "source": [
    "data_VC9117 = pd.read_excel('E:/vcdata/vcAmountaandTimes(91-17-5indes).xlsx')\n",
    "data_city = pd.read_excel('E:/vcdata/00-18POP&GDP.xlsx')\n",
    "data_VCAndGDP = pd.merge(data_VC9117, data_city, on=['City'], how=\"right\")###outer\n",
    "dataPin = pd.read_excel('E:/vcdata/cityPinyin.xlsx')"
   ]
  },
  {
   "cell_type": "code",
   "execution_count": 3,
   "metadata": {},
   "outputs": [],
   "source": [
    "city_pin = dataPin.set_index(\"city\").to_dict()['CityP']###将城市中文和拼音对应\n",
    "#d函数分别是为了找到'城市中文和拼音的对应关系\n",
    "def d1(s):\n",
    "    end=city_pin[s]\n",
    "    return(end)\n",
    "data_VCAndGDP['cityPin']=data_VCAndGDP['City'].map(d1)###总表中的城市与其对应"
   ]
  },
  {
   "cell_type": "code",
   "execution_count": 5,
   "metadata": {},
   "outputs": [],
   "source": [
    "data_VCAndGDP.to_excel('E:/vcdata/VCAndGDP(GDP2).xlsx')"
   ]
  },
  {
   "cell_type": "code",
   "execution_count": 21,
   "metadata": {},
   "outputs": [],
   "source": [
    "# city1 = dataPin['city'].drop_duplicates().values\n",
    "# city2 = data_VCAndGDP['City'].drop_duplicates().values\n",
    "# citys = list(set(city2).difference(set(city1)))\n",
    "# datacity = pd.DataFrame(citys)\n",
    "# datacity.to_excel('E:/vcdata/unknownCity.xlsx')"
   ]
  },
  {
   "cell_type": "code",
   "execution_count": 2,
   "metadata": {},
   "outputs": [
    {
     "data": {
      "text/plain": [
       "276"
      ]
     },
     "execution_count": 2,
     "metadata": {},
     "output_type": "execute_result"
    }
   ],
   "source": [
    "data = pd.read_excel('E:/vcdata/VCAndGDP(GDP2).xlsx')\n",
    "len(data['city'])"
   ]
  },
  {
   "cell_type": "code",
   "execution_count": 6,
   "metadata": {},
   "outputs": [
    {
     "data": {
      "text/plain": [
       "276"
      ]
     },
     "execution_count": 6,
     "metadata": {},
     "output_type": "execute_result"
    }
   ],
   "source": [
    "len(data_city['City'])"
   ]
  },
  {
   "cell_type": "code",
   "execution_count": null,
   "metadata": {},
   "outputs": [],
   "source": []
  }
 ],
 "metadata": {
  "kernelspec": {
   "display_name": "Python 3",
   "language": "python",
   "name": "python3"
  },
  "language_info": {
   "codemirror_mode": {
    "name": "ipython",
    "version": 3
   },
   "file_extension": ".py",
   "mimetype": "text/x-python",
   "name": "python",
   "nbconvert_exporter": "python",
   "pygments_lexer": "ipython3",
   "version": "3.6.5"
  }
 },
 "nbformat": 4,
 "nbformat_minor": 2
}
