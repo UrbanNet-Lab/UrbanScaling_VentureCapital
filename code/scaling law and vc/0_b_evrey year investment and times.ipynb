{
 "cells": [
  {
   "cell_type": "code",
   "execution_count": 1,
   "metadata": {},
   "outputs": [],
   "source": [
    "#关于文档的一个数据分类\n",
    "import pandas as pd\n",
    "import seaborn as sns  #用于绘制热图的工具包\n",
    "from scipy.cluster import hierarchy  #用于进行层次聚类，话层次聚类图的工具包\n",
    "from scipy import cluster   \n",
    "import matplotlib.pyplot as plt\n",
    "from sklearn import decomposition as skldec #用于主成分分析降维的包\n",
    "import numpy as np\n",
    "#import csv\n",
    "import math\n",
    "from pandas import Series,DataFrame\n",
    "from matplotlib.ticker import  MultipleLocator"
   ]
  },
  {
   "cell_type": "code",
   "execution_count": 20,
   "metadata": {},
   "outputs": [],
   "source": [
    "data_allvc = pd.read_excel('E:/vcdata/vcdata(91-17-new).xlsx') ###处理后的投资数据"
   ]
  },
  {
   "cell_type": "code",
   "execution_count": 21,
   "metadata": {},
   "outputs": [],
   "source": [
    "if data_allvc['year'].values[1] == 1991:\n",
    "    print(1)"
   ]
  },
  {
   "cell_type": "code",
   "execution_count": 22,
   "metadata": {},
   "outputs": [],
   "source": [
    "### 得到每一个城市每年的投资金额，总投资次数，有投资金额的次数，无投资金额的次数\n",
    "group_city = data_allvc.groupby('city')\n",
    "def city_vc(vcC):    \n",
    "    cyear = vcC[1]['year'].values ###years\n",
    "    cM = vcC[1]['投资金额(RMB)'].values ###amount\n",
    "    Yamount = [] ###投资金额\n",
    "    Ytimes_all = [] ###投资次数\n",
    "    Ytimes_findnot0 = [] ###有投资的次数\n",
    "    Ytimes_unknown = [] ###投资金额为0的次数    \n",
    "    Ytimes_0 = [] ###无投资的次数\n",
    "    Years = np.arange(1991,2018)\n",
    "    for yy in Years:\n",
    "        index = 0 ###标志该年是否有投资，无的话记为0.\n",
    "        camount = 0 ###投资金额\n",
    "        ctimes_all = 0 ###投资次数\n",
    "        ctimes_findnot0 = 0 ###有投资且投资金额不为0的次数\n",
    "        ctimes_unknown = 0 ###无投资的次数  \n",
    "        ctimes_0 = 0 ###投资金额为0的次数 \n",
    "        for cc in range(len(cM)):\n",
    "            if cyear[cc] == str(yy):\n",
    "                index = 1 ###存在标志改为1\n",
    "                if cM[cc] == '--':\n",
    "                    ctimes_all += 1\n",
    "                    ctimes_unknown += 1\n",
    "                elif cM[cc] == 0:\n",
    "                    ctimes_all += 1\n",
    "                    ctimes_0 += 1\n",
    "                    camount += cM[cc]\n",
    "                else:\n",
    "                    ctimes_all += 1\n",
    "                    ctimes_findnot0 += 1\n",
    "                    camount += cM[cc]\n",
    "        if index == 1:\n",
    "            Yamount.append(camount)\n",
    "            Ytimes_all.append(ctimes_all)\n",
    "            Ytimes_findnot0.append(ctimes_findnot0)\n",
    "            Ytimes_unknown.append(ctimes_unknown)\n",
    "            Ytimes_0.append(ctimes_0)\n",
    "        else:\n",
    "            Yamount.append('')\n",
    "            Ytimes_all.append(0)\n",
    "            Ytimes_findnot0.append(0)\n",
    "            Ytimes_unknown.append(0)\n",
    "            Ytimes_0.append(0)\n",
    "    return(Yamount,Ytimes_all,Ytimes_findnot0,Ytimes_unknown,Ytimes_0)"
   ]
  },
  {
   "cell_type": "code",
   "execution_count": 23,
   "metadata": {},
   "outputs": [],
   "source": [
    "city = [] ###记录城市\n",
    "Camount = [] ###投资金额\n",
    "Ctimes_all = [] ###投资次数\n",
    "Ctimes_find = [] ###有投资的次数\n",
    "Ctimes_unknown = [] ###无投资的次数 \n",
    "Ctimes_0 = [] ###金额为0的次数 \n",
    "for vcC in group_city:\n",
    "    if vcC[0]!='--':\n",
    "        city.append(vcC[0])\n",
    "        listdata = city_vc(vcC)\n",
    "        Camount.append(listdata[0])\n",
    "        Ctimes_all.append(listdata[1])\n",
    "        Ctimes_find.append(listdata[2])\n",
    "        Ctimes_unknown.append(listdata[3])\n",
    "        Ctimes_0.append(listdata[4])"
   ]
  },
  {
   "cell_type": "code",
   "execution_count": 24,
   "metadata": {},
   "outputs": [
    {
     "data": {
      "text/plain": [
       "(338, 338, 338, 338, 338)"
      ]
     },
     "execution_count": 24,
     "metadata": {},
     "output_type": "execute_result"
    }
   ],
   "source": [
    "len(city),len(Camount),len(Ctimes_all),len(Ctimes_find),len(Ctimes_unknown)"
   ]
  },
  {
   "cell_type": "code",
   "execution_count": 25,
   "metadata": {},
   "outputs": [],
   "source": [
    "Years = np.arange(1991,2018)\n",
    "dataAmount = pd.DataFrame(Camount,columns=[str(i)+'总投资金额(M)' for i in Years])\n",
    "dataAmount['City'] = city\n",
    "dataTimes = pd.DataFrame(Ctimes_all,columns=[str(i)+'总投资次数' for i in Years])\n",
    "dataTimes['City'] = city\n",
    "dataTimesFind = pd.DataFrame(Ctimes_find,columns=[str(i)+'投资次数(not0)' for i in Years])\n",
    "dataTimesFind['City'] = city\n",
    "dataTimesUnknown = pd.DataFrame(Ctimes_unknown,columns=[str(i)+'投资次数(无金额)' for i in Years])\n",
    "dataTimesUnknown['City'] = city\n",
    "dataTimesFind0 = pd.DataFrame(Ctimes_0,columns=[str(i)+'投资次数(0)' for i in Years])\n",
    "dataTimesFind0['City'] = city"
   ]
  },
  {
   "cell_type": "code",
   "execution_count": 26,
   "metadata": {},
   "outputs": [],
   "source": [
    "### 将城市的投资属性合并\n",
    "data1 = pd.merge(dataAmount, dataTimes, on=['City'])\n",
    "data2 = pd.merge(dataTimesFind, dataTimesUnknown, on=['City'])\n",
    "data3 = pd.merge(data2, dataTimesFind0, on=['City'])\n",
    "data_VC9117 =  pd.merge(data1, data3, on=['City'])\n",
    "City_city=data_allvc.set_index(\"city\").to_dict()['实际地区']\n",
    "def citys(s):\n",
    "    City = City_city[s]\n",
    "    return(City)\n",
    "data_VC9117['city'] = data_VC9117['City'].map(citys)"
   ]
  },
  {
   "cell_type": "code",
   "execution_count": 27,
   "metadata": {},
   "outputs": [],
   "source": [
    "# data_VC9117.to_excel('E:/vcdata/vcAmountaandTimes(91-17).xlsx')\n",
    "data_VC9117.to_excel('E:/vcdata/data/vcAmountaandTimes(91-17-5indes).xlsx')"
   ]
  },
  {
   "cell_type": "code",
   "execution_count": 19,
   "metadata": {},
   "outputs": [
    {
     "data": {
      "text/plain": [
       "338"
      ]
     },
     "execution_count": 19,
     "metadata": {},
     "output_type": "execute_result"
    }
   ],
   "source": [
    "data_VC9117.shape[0]"
   ]
  },
  {
   "cell_type": "code",
   "execution_count": null,
   "metadata": {},
   "outputs": [],
   "source": []
  }
 ],
 "metadata": {
  "kernelspec": {
   "display_name": "Python 3",
   "language": "python",
   "name": "python3"
  },
  "language_info": {
   "codemirror_mode": {
    "name": "ipython",
    "version": 3
   },
   "file_extension": ".py",
   "mimetype": "text/x-python",
   "name": "python",
   "nbconvert_exporter": "python",
   "pygments_lexer": "ipython3",
   "version": "3.6.5"
  }
 },
 "nbformat": 4,
 "nbformat_minor": 2
}
