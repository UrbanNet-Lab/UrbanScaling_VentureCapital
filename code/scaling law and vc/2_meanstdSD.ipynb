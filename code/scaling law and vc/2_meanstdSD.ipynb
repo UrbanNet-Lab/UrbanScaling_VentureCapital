{
 "cells": [
  {
   "cell_type": "code",
   "execution_count": 1,
   "metadata": {},
   "outputs": [],
   "source": [
    "# ploting this figure needs raw data that we can't disclose, and we have uploaded the aggregated data that is able to reproduce the figure\n",
    "import pandas as pd\n",
    "import numpy as np\n",
    "import csv\n",
    "import math\n",
    "import matplotlib.pyplot as plt\n",
    "from pandas import Series,DataFrame\n",
    "from matplotlib.ticker import  MultipleLocator"
   ]
  },
  {
   "cell_type": "code",
   "execution_count": 2,
   "metadata": {},
   "outputs": [],
   "source": [
    "data = pd.read_excel('E:/vcdata/data/ALL_Intersection.xlsx')"
   ]
  },
  {
   "cell_type": "code",
   "execution_count": 3,
   "metadata": {},
   "outputs": [],
   "source": [
    "data = data.fillna(0)\n",
    "a = np.arange(2000,2018)\n",
    "pop = [str(i)+'Pop' for i in a]\n",
    "investment = [str(i)+'总投资金额(M)' for i in a]\n",
    "inv_times = [str(i)+'总投资次数' for i in a]\n",
    "gdp = [str(i)+'GDP' for i in a]"
   ]
  },
  {
   "cell_type": "code",
   "execution_count": 6,
   "metadata": {},
   "outputs": [
    {
     "data": {
      "text/plain": [
       "(138, 156)"
      ]
     },
     "execution_count": 6,
     "metadata": {},
     "output_type": "execute_result"
    }
   ],
   "source": [
    "data.iloc[0:1,157-19:175-19]\n",
    "157-19,175-19"
   ]
  },
  {
   "cell_type": "code",
   "execution_count": 7,
   "metadata": {},
   "outputs": [],
   "source": [
    "dataAmount = data.iloc[:,12:12+18]\n",
    "dataTimes = data.iloc[0:,39:39+18]\n",
    "dataGDP = data.iloc[:,157:175]\n",
    "dataPOP = data.iloc[:,138:156]"
   ]
  },
  {
   "cell_type": "code",
   "execution_count": 8,
   "metadata": {},
   "outputs": [],
   "source": [
    "def min2(data):\n",
    "    minvalue = []\n",
    "    for c in data.columns:\n",
    "        s = data[c].values\n",
    "        s = [i for i in s if i!=0]\n",
    "        minvalue.append(min(s))\n",
    "    return(minvalue)"
   ]
  },
  {
   "cell_type": "code",
   "execution_count": 9,
   "metadata": {},
   "outputs": [
    {
     "data": {
      "text/plain": [
       "18"
      ]
     },
     "execution_count": 9,
     "metadata": {},
     "output_type": "execute_result"
    }
   ],
   "source": [
    "len(min2(dataAmount))"
   ]
  },
  {
   "cell_type": "code",
   "execution_count": 11,
   "metadata": {},
   "outputs": [],
   "source": [
    "a =list((dataAmount.shape[0] - (dataAmount == 0).astype(int).sum(axis=0)).values) + list((dataTimes.shape[0] - (dataTimes == 0).astype(int).sum(axis=0)).values)+list((dataGDP.shape[0] - (dataGDP == 0).astype(int).sum(axis=0)).values)"
   ]
  },
  {
   "cell_type": "code",
   "execution_count": 12,
   "metadata": {},
   "outputs": [
    {
     "data": {
      "text/plain": [
       "54"
      ]
     },
     "execution_count": 12,
     "metadata": {},
     "output_type": "execute_result"
    }
   ],
   "source": [
    "len(a)"
   ]
  },
  {
   "cell_type": "code",
   "execution_count": 13,
   "metadata": {},
   "outputs": [],
   "source": [
    "df = pd.DataFrame()\n",
    "df['year'] = np.arange(2000,2018)\n",
    "df['size_Amount'] = list((dataAmount.shape[0] - (dataAmount == 0).astype(int).sum(axis=0)).values) \n",
    "df['size_deals'] = list((dataTimes.shape[0] - (dataTimes == 0).astype(int).sum(axis=0)).values)      \n",
    "df['size_GMP'] = list((dataGDP.shape[0] - (dataGDP == 0).astype(int).sum(axis=0)).values)\n",
    "df['size_POP'] = list((dataPOP.shape[0] - (dataPOP == 0).astype(int).sum(axis=0)).values)\n",
    "df['mean_Amount'] = list(dataAmount.mean(axis=0).values)\n",
    "df['mean_deals'] = list(dataTimes.mean(axis=0).values)\n",
    "df['mean_GMP'] = list(dataGDP.mean(axis=0).values)\n",
    "df['mean_POP'] = list(dataPOP.mean(axis=0).values)\n",
    "df['SD_Amount'] = list(dataAmount.std(axis=0).values)\n",
    "df['SD_deals'] = list(dataTimes.std(axis=0).values)\n",
    "df['SD_GMP'] = list(dataGDP.std(axis=0).values)\n",
    "df['SD_POP'] = list(dataPOP.std(axis=0).values)\n",
    "df['max_Amount'] = list(dataAmount.max(axis=0).values)\n",
    "df['max_deals'] = list(dataTimes.max(axis=0).values)\n",
    "df['max_GMP'] = list(dataGDP.max(axis=0).values)\n",
    "df['max_POP'] = list(dataPOP.max(axis=0).values)\n",
    "# df['min'] = data3.min2(axis=0)[9:9+18].values\n",
    "df['min_Amount'] = min2(dataAmount)\n",
    "df['min_deals'] = min2(dataTimes)\n",
    "df['min_GMP'] = min2(dataGDP)\n",
    "df['min_POP'] = min2(dataPOP)\n",
    "df['sum_Amount'] = list(dataAmount.sum(axis=0).values)\n",
    "df['sum_deals'] = list(dataTimes.sum(axis=0).values)\n",
    "df['sum_GMP'] = list(dataGDP.sum(axis=0).values)\n",
    "df['sum_POP'] = list(dataPOP.sum(axis=0).values)"
   ]
  },
  {
   "cell_type": "code",
   "execution_count": 14,
   "metadata": {},
   "outputs": [],
   "source": [
    "\n",
    "df.to_csv('E:/vcdata/meanSD.csv')"
   ]
  },
  {
   "cell_type": "code",
   "execution_count": 15,
   "metadata": {},
   "outputs": [],
   "source": [
    "################################################"
   ]
  },
  {
   "cell_type": "code",
   "execution_count": 16,
   "metadata": {},
   "outputs": [],
   "source": [
    "########## 求所有去拟合的GDP、amount、times 的均值之类的指标 ###########\n",
    "a = np.arange(2000,2018)\n",
    "pop = [str(i)+'Pop' for i in a]\n",
    "investment = [str(i)+'总投资金额(M)' for i in a]\n",
    "inv_times = [str(i)+'总投资次数' for i in a]\n",
    "gdp = [str(i)+'GDP' for i in a]\n",
    "pop = [str(i)+'Pop' for i in a]"
   ]
  },
  {
   "cell_type": "code",
   "execution_count": 17,
   "metadata": {},
   "outputs": [
    {
     "name": "stderr",
     "output_type": "stream",
     "text": [
      "D:\\Users\\lu\\Anaconda3\\lib\\site-packages\\ipykernel_launcher.py:7: SettingWithCopyWarning: \n",
      "A value is trying to be set on a copy of a slice from a DataFrame\n",
      "\n",
      "See the caveats in the documentation: http://pandas.pydata.org/pandas-docs/stable/indexing.html#indexing-view-versus-copy\n",
      "  import sys\n",
      "D:\\Users\\lu\\Anaconda3\\lib\\site-packages\\ipykernel_launcher.py:8: SettingWithCopyWarning: \n",
      "A value is trying to be set on a copy of a slice from a DataFrame\n",
      "\n",
      "See the caveats in the documentation: http://pandas.pydata.org/pandas-docs/stable/indexing.html#indexing-view-versus-copy\n",
      "  \n",
      "D:\\Users\\lu\\Anaconda3\\lib\\site-packages\\ipykernel_launcher.py:10: SettingWithCopyWarning: \n",
      "A value is trying to be set on a copy of a slice from a DataFrame\n",
      "\n",
      "See the caveats in the documentation: http://pandas.pydata.org/pandas-docs/stable/indexing.html#indexing-view-versus-copy\n",
      "  # Remove the CWD from sys.path while we load stuff.\n",
      "D:\\Users\\lu\\Anaconda3\\lib\\site-packages\\ipykernel_launcher.py:11: SettingWithCopyWarning: \n",
      "A value is trying to be set on a copy of a slice from a DataFrame\n",
      "\n",
      "See the caveats in the documentation: http://pandas.pydata.org/pandas-docs/stable/indexing.html#indexing-view-versus-copy\n",
      "  # This is added back by InteractiveShellApp.init_path()\n"
     ]
    }
   ],
   "source": [
    "### 对城市进行分类，大城市记为1，非大城市记为0.\n",
    "pop17 = data['2017Pop'].values\n",
    "data['popType_0']=pop17\n",
    "data['popType_1']=pop17\n",
    "for i in range(len(pop17)):\n",
    "        if pop17[i] < 550:\n",
    "            data['popType_0'][i]=1###小城市\n",
    "            data['popType_1'][i]=0###小城市\n",
    "        else:\n",
    "            data['popType_0'][i]=0###特大城市\n",
    "            data['popType_1'][i]=1###特大城市"
   ]
  },
  {
   "cell_type": "code",
   "execution_count": 18,
   "metadata": {},
   "outputs": [],
   "source": [
    "### 获得双对数的值 ，舍掉双对数中的0值###\n",
    "def get_log3(inv,g,DATA,name):\n",
    "    x = DATA[inv]\n",
    "    y = DATA[g]\n",
    "    y_investment=np.log10(DATA[inv])\n",
    "    y_gdp=np.log10(DATA[g])\n",
    "    y_investment2=y_investment.fillna(np.infty)\n",
    "    y_gdp2=y_gdp.fillna(np.infty)\n",
    "    types = DATA[name]\n",
    "    x1=[]\n",
    "    y1=[]\n",
    "    X = []\n",
    "    Y = []\n",
    "    Types = []\n",
    "    for xi in range(len(y_investment2)):\n",
    "        if y_investment2[xi]==-float('Inf') or y_investment2[xi]==float('Inf') or y_gdp2[xi]==-float('Inf') or y_gdp2[xi]==float('Inf'):\n",
    "            continue\n",
    "        else:\n",
    "            x1.append(y_investment2[xi])\n",
    "            y1.append(y_gdp2[xi])\n",
    "            Types.append(types[xi]*y_investment2[xi])\n",
    "            X.append(x[xi])\n",
    "            Y.append(y[xi])\n",
    "    return(x1,y1,Types,X,Y)"
   ]
  },
  {
   "cell_type": "code",
   "execution_count": 25,
   "metadata": {},
   "outputs": [],
   "source": [
    "#### 计算所有年amount、times、GDP的均值之类的指标\n",
    "def getmean(amount):\n",
    "    df = pd.DataFrame()\n",
    "    df['amount'] = amount\n",
    "    size = (df.shape[0] - (df == 0).astype(int).sum(axis=0)).values\n",
    "    mean = df.mean(axis=0).values\n",
    "    SD = df.std(axis=0).values\n",
    "    maxvalues = df.max(axis=0).values\n",
    "    minvalues = df.min(axis=0).values\n",
    "    return(size,mean,SD,maxvalues,minvalues)"
   ]
  },
  {
   "cell_type": "code",
   "execution_count": 119,
   "metadata": {},
   "outputs": [
    {
     "name": "stderr",
     "output_type": "stream",
     "text": [
      "D:\\Users\\lu\\Anaconda3\\lib\\site-packages\\ipykernel_launcher.py:5: RuntimeWarning: divide by zero encountered in log10\n",
      "  \"\"\"\n",
      "D:\\Users\\lu\\Anaconda3\\lib\\site-packages\\ipykernel_launcher.py:6: RuntimeWarning: divide by zero encountered in log10\n",
      "  \n"
     ]
    }
   ],
   "source": [
    "######## 所有年份所有数据分类，大城市为1，其他城市为0\n",
    "POP = []### 所有城市所有年份的人口\n",
    "AMountB = []###所有城市所有年份的投资金额\n",
    "TYPE0 = []\n",
    "TYPE1=[]\n",
    "TimesB = []\n",
    "GDPB = []\n",
    "for i in range(18):\n",
    "    X11=pop[i]\n",
    "    X21=investment[i]\n",
    "    X22=inv_times[i]\n",
    "    X23=gdp[i]\n",
    "    Y1 = get_log3(X11,X21,data,'popType_0')\n",
    "    Y2 = get_log3(X11,X21,data,'popType_1')\n",
    "    Y22 = get_log3(X11,X22,data,'popType_1')\n",
    "    Y23 = get_log3(X11,X23,data,'popType_1')\n",
    "    POP += Y1[3]\n",
    "    AMountB += Y1[4]\n",
    "    TimesB += Y22[4]\n",
    "    GDPB += Y23[4]\n",
    "#     Y_total = get_log(X11,X21,data)"
   ]
  },
  {
   "cell_type": "code",
   "execution_count": 120,
   "metadata": {},
   "outputs": [
    {
     "name": "stderr",
     "output_type": "stream",
     "text": [
      "D:\\Users\\lu\\Anaconda3\\lib\\site-packages\\ipykernel_launcher.py:5: RuntimeWarning: divide by zero encountered in log10\n",
      "  \"\"\"\n",
      "D:\\Users\\lu\\Anaconda3\\lib\\site-packages\\ipykernel_launcher.py:6: RuntimeWarning: divide by zero encountered in log10\n",
      "  \n"
     ]
    }
   ],
   "source": [
    "######## 所有年份所有数据分类，大城市为1，其他城市为0\n",
    "POP = []### 所有城市所有年份的人口\n",
    "AMount = []###所有城市所有年份的投资金额\n",
    "TYPEyear0 = []\n",
    "TYPEyear1=[]\n",
    "Times = []\n",
    "GDP = []\n",
    "a = np.arange(2000,2018)\n",
    "yearType = [str(i)+'yearType0' for i in a]### 2013年之前的为0\n",
    "yearType2 = [str(i)+'yearType1' for i in a]###2013年之前的为1\n",
    "for i in range(18):\n",
    "    if i<13:\n",
    "        data[yearType[i]] = [0]*data.shape[0]\n",
    "        data[yearType2[i]] = [1]*data.shape[0]\n",
    "    else:\n",
    "        data[yearType[i]] = [1]*data.shape[0]\n",
    "        data[yearType2[i]] = [0]*data.shape[0]\n",
    "    X11=pop[i]\n",
    "    X21=investment[i]\n",
    "    X22=inv_times[i]\n",
    "    X23=gdp[i]\n",
    "    Y1 = get_log3(X11,X21,data,yearType[i])\n",
    "    Y2 = get_log3(X11,X21,data,yearType2[i])\n",
    "    Y12 = get_log3(X11,X22,data,yearType[i])\n",
    "    Y13 = get_log3(X11,X23,data,yearType2[i])\n",
    "    AMount += Y1[4]\n",
    "    Times += Y12[4]\n",
    "    GDP += Y13[4]\n",
    "#     Y_total = get_log(X11,X21,data)"
   ]
  },
  {
   "cell_type": "code",
   "execution_count": 121,
   "metadata": {},
   "outputs": [],
   "source": [
    "dataAmount = getmean(AMount)\n",
    "dataTimes = getmean(Times)\n",
    "dataGDP = getmean(GDP)\n",
    "\n",
    "dataAmountB = getmean(AMountB)\n",
    "dataTimesB = getmean(TimesB)\n",
    "dataGDPB = getmean(GDPB)"
   ]
  },
  {
   "cell_type": "code",
   "execution_count": null,
   "metadata": {},
   "outputs": [],
   "source": [
    "size = []\n",
    "mean = []\n",
    "SD = []\n",
    "maxvalues = []\n",
    "minvalues = []\n",
    "    size + = list(dataAmountB[0])+"
   ]
  },
  {
   "cell_type": "code",
   "execution_count": 125,
   "metadata": {},
   "outputs": [
    {
     "data": {
      "text/plain": [
       "[1780, 1961]"
      ]
     },
     "execution_count": 125,
     "metadata": {},
     "output_type": "execute_result"
    }
   ],
   "source": [
    "list(dataAmountB[0]) + list(dataTimesB[0])"
   ]
  },
  {
   "cell_type": "code",
   "execution_count": 126,
   "metadata": {},
   "outputs": [],
   "source": [
    "DF = pd.DataFrame()\n",
    "DF['size'] = list(dataAmountB[0]) + list(dataTimesB[0])+list(dataGDPB[0])\n",
    "DF['mean'] = list(dataAmountB[1]) + list(dataTimesB[1])+list(dataGDPB[1])\n",
    "DF['SD'] = list(dataAmountB[2]) + list(dataTimesB[2])+list(dataGDPB[2])\n",
    "DF['max'] = list(dataAmountB[3]) + list(dataTimesB[3])+list(dataGDPB[3])\n",
    "DF['min'] = list(dataAmountB[4]) + list(dataTimesB[4])+list(dataGDPB[4])"
   ]
  },
  {
   "cell_type": "code",
   "execution_count": 128,
   "metadata": {},
   "outputs": [],
   "source": [
    "DF.index = ['Amount','# deals','GMP']"
   ]
  },
  {
   "cell_type": "code",
   "execution_count": 129,
   "metadata": {},
   "outputs": [
    {
     "data": {
      "text/html": [
       "<div>\n",
       "<style scoped>\n",
       "    .dataframe tbody tr th:only-of-type {\n",
       "        vertical-align: middle;\n",
       "    }\n",
       "\n",
       "    .dataframe tbody tr th {\n",
       "        vertical-align: top;\n",
       "    }\n",
       "\n",
       "    .dataframe thead th {\n",
       "        text-align: right;\n",
       "    }\n",
       "</style>\n",
       "<table border=\"1\" class=\"dataframe\">\n",
       "  <thead>\n",
       "    <tr style=\"text-align: right;\">\n",
       "      <th></th>\n",
       "      <th>size</th>\n",
       "      <th>mean</th>\n",
       "      <th>SD</th>\n",
       "      <th>max</th>\n",
       "      <th>min</th>\n",
       "    </tr>\n",
       "  </thead>\n",
       "  <tbody>\n",
       "    <tr>\n",
       "      <th>Amount</th>\n",
       "      <td>1780</td>\n",
       "      <td>1.183424e+03</td>\n",
       "      <td>6.383987e+03</td>\n",
       "      <td>1.079785e+05</td>\n",
       "      <td>0.17118</td>\n",
       "    </tr>\n",
       "    <tr>\n",
       "      <th># deals</th>\n",
       "      <td>1961</td>\n",
       "      <td>1.880571e+01</td>\n",
       "      <td>9.458203e+01</td>\n",
       "      <td>1.810000e+03</td>\n",
       "      <td>1.00000</td>\n",
       "    </tr>\n",
       "    <tr>\n",
       "      <th>GMP</th>\n",
       "      <td>4790</td>\n",
       "      <td>8.537716e+06</td>\n",
       "      <td>2.096082e+07</td>\n",
       "      <td>3.063299e+08</td>\n",
       "      <td>103847.00000</td>\n",
       "    </tr>\n",
       "  </tbody>\n",
       "</table>\n",
       "</div>"
      ],
      "text/plain": [
       "         size          mean            SD           max           min\n",
       "Amount   1780  1.183424e+03  6.383987e+03  1.079785e+05       0.17118\n",
       "# deals  1961  1.880571e+01  9.458203e+01  1.810000e+03       1.00000\n",
       "GMP      4790  8.537716e+06  2.096082e+07  3.063299e+08  103847.00000"
      ]
     },
     "execution_count": 129,
     "metadata": {},
     "output_type": "execute_result"
    }
   ],
   "source": [
    "DF"
   ]
  },
  {
   "cell_type": "code",
   "execution_count": 130,
   "metadata": {},
   "outputs": [],
   "source": [
    "DF.to_csv('E:/vcdata/AllmeanSD.csv')"
   ]
  },
  {
   "cell_type": "code",
   "execution_count": 131,
   "metadata": {},
   "outputs": [],
   "source": [
    "######### 所有数据 2000-2017年的指标 ##########"
   ]
  },
  {
   "cell_type": "code",
   "execution_count": 19,
   "metadata": {},
   "outputs": [],
   "source": [
    "Data = pd.read_excel('E:/vcdata/vcdata(91-17-new).xlsx')\n",
    "Data2 = pd.read_excel('E:/vcdata/00-18POP&GDP.xlsx')"
   ]
  },
  {
   "cell_type": "code",
   "execution_count": 20,
   "metadata": {},
   "outputs": [
    {
     "data": {
      "text/plain": [
       "(46775,\n",
       " 276,\n",
       " Index(['City', '2000Pop', '2001Pop', '2002Pop', '2003Pop', '2004Pop',\n",
       "        '2005Pop', '2006Pop', '2007Pop', '2008Pop', '2009Pop', '2010Pop',\n",
       "        '2011Pop', '2012Pop', '2013Pop', '2014Pop', '2015Pop', '2016Pop',\n",
       "        '2000GDP', '2001GDP', '2002GDP', '2003GDP', '2004GDP', '2005GDP',\n",
       "        '2006GDP', '2007GDP', '2008GDP', '2009GDP', '2010GDP', '2011GDP',\n",
       "        '2012GDP', '2013GDP', '2014GDP', '2015GDP', '2016GDP', '2017Pop',\n",
       "        '2017GDP', '2018Pop', '2018GDP'],\n",
       "       dtype='object'))"
      ]
     },
     "execution_count": 20,
     "metadata": {},
     "output_type": "execute_result"
    }
   ],
   "source": [
    "Data.shape[0],Data2.shape[0],Data2.columns"
   ]
  },
  {
   "cell_type": "code",
   "execution_count": 21,
   "metadata": {},
   "outputs": [
    {
     "data": {
      "text/plain": [
       "552"
      ]
     },
     "execution_count": 21,
     "metadata": {},
     "output_type": "execute_result"
    }
   ],
   "source": [
    "len(list(Data2['2000Pop'])+list(Data2['2001Pop']))"
   ]
  },
  {
   "cell_type": "code",
   "execution_count": 23,
   "metadata": {},
   "outputs": [],
   "source": [
    "Data = Data.fillna(0)\n",
    "amounAll = [i if i!='--' else 0 for i in Data['投资金额(RMB)']]\n",
    "timesAll = [1 if i!='--' and i!=0 else 0 for i in Data['投资金额(RMB)']]\n",
    "GDPAll = []\n",
    "POPAll = []\n",
    "for i in range(len(gdp)):\n",
    "    GDPAll += list(Data2[gdp[i]]/100)\n",
    "    POPAll += list(Data2[pop[i]])"
   ]
  },
  {
   "cell_type": "code",
   "execution_count": 26,
   "metadata": {},
   "outputs": [],
   "source": [
    "dataAmountAll = getmean(amounAll)\n",
    "dataTimesAll = getmean(timesAll)\n",
    "dataGDPAll = getmean(GDPAll)\n",
    "dataPOPAll = getmean(POPAll)"
   ]
  },
  {
   "cell_type": "code",
   "execution_count": 28,
   "metadata": {},
   "outputs": [
    {
     "data": {
      "text/plain": [
       "(array([4968], dtype=int64),\n",
       " array([108.37268946]),\n",
       " array([197.25053302]),\n",
       " array([2425.68]),\n",
       " array([4.]))"
      ]
     },
     "execution_count": 28,
     "metadata": {},
     "output_type": "execute_result"
    }
   ],
   "source": [
    "dataPOPAll"
   ]
  },
  {
   "cell_type": "code",
   "execution_count": 173,
   "metadata": {},
   "outputs": [
    {
     "data": {
      "text/plain": [
       "(array([37309], dtype=int64),\n",
       " array([62.59454044]),\n",
       " array([429.49485785]),\n",
       " array([29327.259438]),\n",
       " array([0.]))"
      ]
     },
     "execution_count": 173,
     "metadata": {},
     "output_type": "execute_result"
    }
   ],
   "source": [
    "dataAmountAll"
   ]
  },
  {
   "cell_type": "code",
   "execution_count": 29,
   "metadata": {},
   "outputs": [],
   "source": [
    "DFall = pd.DataFrame()\n",
    "DFall['size'] = list(dataAmountAll[0]) + list(dataTimesAll[0])+list(dataGDPAll[0])+list(dataPOPAll[0])\n",
    "DFall['mean'] = list(dataAmountAll[1]) + list(dataTimesAll[1])+list(dataGDPAll[1])+list(dataPOPAll[1])\n",
    "DFall['SD'] = list(dataAmountAll[2]) + list(dataTimesAll[2])+list(dataGDPAll[2])+list(dataPOPAll[2])\n",
    "DFall['max'] = list(dataAmountAll[3]) + list(dataTimesAll[3])+list(dataGDPAll[3])+list(dataPOPAll[3])\n",
    "DFall['min'] = list(dataAmountAll[4]) + list(dataTimesAll[4])+list(dataGDPAll[4])+list(dataPOPAll[4])"
   ]
  },
  {
   "cell_type": "code",
   "execution_count": 31,
   "metadata": {},
   "outputs": [],
   "source": [
    "DFall.index = ['Amount','# deals','GMP','Population']\n",
    "DFall.to_csv('E:/vcdata/0AllDatameanSD.csv')"
   ]
  },
  {
   "cell_type": "code",
   "execution_count": 32,
   "metadata": {},
   "outputs": [
    {
     "data": {
      "text/html": [
       "<div>\n",
       "<style scoped>\n",
       "    .dataframe tbody tr th:only-of-type {\n",
       "        vertical-align: middle;\n",
       "    }\n",
       "\n",
       "    .dataframe tbody tr th {\n",
       "        vertical-align: top;\n",
       "    }\n",
       "\n",
       "    .dataframe thead th {\n",
       "        text-align: right;\n",
       "    }\n",
       "</style>\n",
       "<table border=\"1\" class=\"dataframe\">\n",
       "  <thead>\n",
       "    <tr style=\"text-align: right;\">\n",
       "      <th></th>\n",
       "      <th>size</th>\n",
       "      <th>mean</th>\n",
       "      <th>SD</th>\n",
       "      <th>max</th>\n",
       "      <th>min</th>\n",
       "    </tr>\n",
       "  </thead>\n",
       "  <tbody>\n",
       "    <tr>\n",
       "      <th>Amount</th>\n",
       "      <td>37309</td>\n",
       "      <td>62.594540</td>\n",
       "      <td>429.494858</td>\n",
       "      <td>2.932726e+04</td>\n",
       "      <td>0.00</td>\n",
       "    </tr>\n",
       "    <tr>\n",
       "      <th># deals</th>\n",
       "      <td>37309</td>\n",
       "      <td>0.797627</td>\n",
       "      <td>0.401773</td>\n",
       "      <td>1.000000e+00</td>\n",
       "      <td>0.00</td>\n",
       "    </tr>\n",
       "    <tr>\n",
       "      <th>GMP</th>\n",
       "      <td>4968</td>\n",
       "      <td>84231.017371</td>\n",
       "      <td>208083.935237</td>\n",
       "      <td>3.063299e+06</td>\n",
       "      <td>1038.47</td>\n",
       "    </tr>\n",
       "    <tr>\n",
       "      <th>Population</th>\n",
       "      <td>4968</td>\n",
       "      <td>108.372689</td>\n",
       "      <td>197.250533</td>\n",
       "      <td>2.425680e+03</td>\n",
       "      <td>4.00</td>\n",
       "    </tr>\n",
       "  </tbody>\n",
       "</table>\n",
       "</div>"
      ],
      "text/plain": [
       "             size          mean             SD           max      min\n",
       "Amount      37309     62.594540     429.494858  2.932726e+04     0.00\n",
       "# deals     37309      0.797627       0.401773  1.000000e+00     0.00\n",
       "GMP          4968  84231.017371  208083.935237  3.063299e+06  1038.47\n",
       "Population   4968    108.372689     197.250533  2.425680e+03     4.00"
      ]
     },
     "execution_count": 32,
     "metadata": {},
     "output_type": "execute_result"
    }
   ],
   "source": [
    "DFall"
   ]
  },
  {
   "cell_type": "code",
   "execution_count": 176,
   "metadata": {},
   "outputs": [
    {
     "data": {
      "text/html": [
       "<div>\n",
       "<style scoped>\n",
       "    .dataframe tbody tr th:only-of-type {\n",
       "        vertical-align: middle;\n",
       "    }\n",
       "\n",
       "    .dataframe tbody tr th {\n",
       "        vertical-align: top;\n",
       "    }\n",
       "\n",
       "    .dataframe thead th {\n",
       "        text-align: right;\n",
       "    }\n",
       "</style>\n",
       "<table border=\"1\" class=\"dataframe\">\n",
       "  <thead>\n",
       "    <tr style=\"text-align: right;\">\n",
       "      <th></th>\n",
       "      <th>size</th>\n",
       "      <th>mean</th>\n",
       "      <th>SD</th>\n",
       "      <th>max</th>\n",
       "      <th>min</th>\n",
       "    </tr>\n",
       "  </thead>\n",
       "  <tbody>\n",
       "    <tr>\n",
       "      <th>0</th>\n",
       "      <td>37309</td>\n",
       "      <td>62.594540</td>\n",
       "      <td>429.494858</td>\n",
       "      <td>2.932726e+04</td>\n",
       "      <td>0.00</td>\n",
       "    </tr>\n",
       "    <tr>\n",
       "      <th>1</th>\n",
       "      <td>37309</td>\n",
       "      <td>0.797627</td>\n",
       "      <td>0.401773</td>\n",
       "      <td>1.000000e+00</td>\n",
       "      <td>0.00</td>\n",
       "    </tr>\n",
       "    <tr>\n",
       "      <th>2</th>\n",
       "      <td>4968</td>\n",
       "      <td>84231.017371</td>\n",
       "      <td>208083.935237</td>\n",
       "      <td>3.063299e+06</td>\n",
       "      <td>1038.47</td>\n",
       "    </tr>\n",
       "  </tbody>\n",
       "</table>\n",
       "</div>"
      ],
      "text/plain": [
       "    size          mean             SD           max      min\n",
       "0  37309     62.594540     429.494858  2.932726e+04     0.00\n",
       "1  37309      0.797627       0.401773  1.000000e+00     0.00\n",
       "2   4968  84231.017371  208083.935237  3.063299e+06  1038.47"
      ]
     },
     "execution_count": 176,
     "metadata": {},
     "output_type": "execute_result"
    }
   ],
   "source": [
    "DFall"
   ]
  },
  {
   "cell_type": "code",
   "execution_count": null,
   "metadata": {},
   "outputs": [],
   "source": []
  }
 ],
 "metadata": {
  "kernelspec": {
   "display_name": "Python 3",
   "language": "python",
   "name": "python3"
  },
  "language_info": {
   "codemirror_mode": {
    "name": "ipython",
    "version": 3
   },
   "file_extension": ".py",
   "mimetype": "text/x-python",
   "name": "python",
   "nbconvert_exporter": "python",
   "pygments_lexer": "ipython3",
   "version": "3.6.5"
  }
 },
 "nbformat": 4,
 "nbformat_minor": 2
}
