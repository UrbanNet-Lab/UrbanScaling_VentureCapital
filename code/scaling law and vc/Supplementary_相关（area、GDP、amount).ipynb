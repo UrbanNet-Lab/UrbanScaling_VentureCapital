{
 "cells": [
  {
   "cell_type": "code",
   "execution_count": 1,
   "metadata": {},
   "outputs": [],
   "source": [
    "#关于文档的一个数据分类\n",
    "import pandas as pd\n",
    "import seaborn as sns  #用于绘制热图的工具包\n",
    "from scipy.cluster import hierarchy  #用于进行层次聚类，话层次聚类图的工具包\n",
    "from scipy import cluster   \n",
    "import matplotlib.pyplot as plt\n",
    "from sklearn import decomposition as skldec #用于主成分分析降维的包\n",
    "import numpy as np\n",
    "#import csv\n",
    "import math\n",
    "from pandas import Series,DataFrame\n",
    "from matplotlib.ticker import  MultipleLocator\n",
    "import pylab as pl   #画图用\n",
    "from sklearn import svm\n",
    "from sklearn import linear_model"
   ]
  },
  {
   "cell_type": "code",
   "execution_count": 2,
   "metadata": {},
   "outputs": [],
   "source": [
    "a = np.arange(2000,2018)\n",
    "pop = [str(i)+'Pop' for i in a]\n",
    "investment = [str(i)+'总投资金额(M)' for i in a]\n",
    "inv_times = [str(i)+'总投资次数' for i in a]\n",
    "gdp = [str(i)+'GDP' for i in a]\n",
    "area = [str(i)+'Area' for i in a]"
   ]
  },
  {
   "cell_type": "code",
   "execution_count": 3,
   "metadata": {},
   "outputs": [],
   "source": [
    "data =pd.read_excel('E:/vcdata/data/ALL_Intersection.xlsx')  # 读取训练数据\n",
    "dataArea =pd.read_excel('E:/vcdata/data/vcAmountandArea.xlsx')  # 读取训练数据\n",
    "city=data['City'].drop_duplicates().values\n",
    "City=data['city'].drop_duplicates().values\n",
    "cityA=data['City'].drop_duplicates().values\n",
    "CityA=data['city'].drop_duplicates().values"
   ]
  },
  {
   "cell_type": "code",
   "execution_count": 4,
   "metadata": {},
   "outputs": [],
   "source": [
    "from scipy.optimize import leastsq  ##引入最小二乘法算法\n",
    "#需要拟合的函数func :指定函数的形状\n",
    "def func(p,x):\n",
    "    k,b=p\n",
    "    return k*x+b\n",
    "\n",
    "##偏差函数：x,y都是列表:这里的x,y更上面的Xi,Yi中是一一对应的\n",
    "def error(p,x,y):\n",
    "    return func(p,x)-y\n",
    "\n",
    "plt.rcParams['font.sans-serif']=['Simhei']     #解决中文显示问题，目前只知道黑体可行\n",
    "plt.rcParams['axes.unicode_minus']=False       #解决负数坐标显示问题\n",
    "##### 求残差 logy-log（kx+b）\n",
    "def GuiJI(data,xl,yl,i,xname,yname):\n",
    "    ###xl,yl：列名的list,xname,yname：列名,i:年份\n",
    "    city=data['City'].drop_duplicates().values\n",
    "    r=[]  ###标度率\n",
    "    ###保存取完log后大于0的值\n",
    "    p=[]\n",
    "    g=[]\n",
    "    ###保存所有的log值，小于0的记录为-1\n",
    "    p2=[]\n",
    "    g2=[]\n",
    "    ###取列值的log\n",
    "    XI=data[xl[i]]\n",
    "    YI=data[yl[i]]\n",
    "    xi=np.log(XI)\n",
    "    yi=np.log(YI)\n",
    "    XII=xi.fillna(np.infty) ###将空值置为inf\n",
    "    YII=yi.fillna(np.infty)\n",
    "    ###判断是否大于0\n",
    "    City=[]###保存log值大于0的城市名\n",
    "    for mm in range(len(XII)):\n",
    "        if XII[mm]==-float('Inf') or XII[mm]==float('Inf') or YII[mm]==-float('Inf') or YII[mm]==float('Inf'):\n",
    "            continue\n",
    "        else:\n",
    "            p.append(XII[mm])\n",
    "            g.append(YII[mm])\n",
    "            City.append(city[mm])\n",
    "    return(City)"
   ]
  },
  {
   "cell_type": "code",
   "execution_count": 5,
   "metadata": {},
   "outputs": [],
   "source": [
    "####计算城市两者之间的相关性 ######\n",
    "def AnumT2(data,data2,pop,m):###m代表第几行的城市\n",
    "    corrCity = []###记录城市的相关性值  \n",
    "#     POP = data.iloc[m:m+1,0:18].fillna(0).values[0]###时间序列长度必须一致，每次往后挪一列\n",
    "#     a = 0\n",
    "#     for xx in range(len(POP)):\n",
    "#         a += POP[xx]**2\n",
    "    for t in range(1,11):\n",
    "        Acity = [] ###记录每两年间的情况\n",
    "        pop1 = data.iloc[m:m+1,0:len(pop)-t].fillna(0).values[0]###时间序列长度必须一致，每次往后挪一列\n",
    "        pop2 = data2.iloc[m:m+1,t:18].fillna(0).values[0]\n",
    "        a1=0\n",
    "        a2=0\n",
    "        for xx in range(len(pop1)):\n",
    "            a1+=pop1[xx]**2\n",
    "            a2+=pop2[xx]**2\n",
    "        a=(a1**0.5)*(a2**0.5)\n",
    "        b=0\n",
    "        for j in range(len(pop1)):\n",
    "            b+=pop1[j]*pop2[j]\n",
    "        if a==0:\n",
    "            corrCity.append(0)\n",
    "        else:\n",
    "            corrCity.append(b/a)\n",
    "    return(corrCity)"
   ]
  },
  {
   "cell_type": "code",
   "execution_count": 6,
   "metadata": {},
   "outputs": [
    {
     "name": "stderr",
     "output_type": "stream",
     "text": [
      "D:\\Users\\lu\\Anaconda3\\lib\\site-packages\\ipykernel_launcher.py:28: RuntimeWarning: divide by zero encountered in log\n"
     ]
    }
   ],
   "source": [
    "cityM = GuiJI(data,pop,investment,15,'pop','amount')###按照2015年含有投资金额的城市来删选2000-2016年间关于GDP\\amount\\times的数据\n",
    "dataM = pd.DataFrame(columns=data.columns)\n",
    "for cc in range(len(city)):\n",
    "    if city[cc] in cityM:\n",
    "#         print(cc)\n",
    "        dataM.loc[cc] = list(data[cc:cc+1].values[0])\n",
    "    \n",
    "dataGDP=dataM.iloc[:,22+27*5:40+27*5]###获取GDP的数据\n",
    "dataAmount = dataM.iloc[:,12:30]###投资金额"
   ]
  },
  {
   "cell_type": "code",
   "execution_count": 7,
   "metadata": {},
   "outputs": [],
   "source": [
    "# cityA = GuiJI(dataArea,pop,area,15,'pop','area')###按照2015年含有投资金额的城市来删选2000-2016年间关于GDP\\amount\\times的数据\n",
    "dataA = pd.DataFrame(columns=dataArea.columns)\n",
    "for cc in range(len(cityM)):\n",
    "    if city[cc] in cityM:\n",
    "#         print(cc)\n",
    "        dataA.loc[cc] = list(dataArea[cc:cc+1].values[0])\n",
    "    \n",
    "dataAmount2 = dataA.iloc[:,11:29]###投资金额\n",
    "dataAreas=dataA.iloc[:,20+27*5:40+27*5]###获取GDP的数据"
   ]
  },
  {
   "cell_type": "code",
   "execution_count": 8,
   "metadata": {},
   "outputs": [],
   "source": [
    "###计算所有城市的delta t 时间序列相关性，并取均值###\n",
    "# TCity_A = []###投资金额，投资次数，GDP相关性\n",
    "TCity_AA = []\n",
    "TCity_AG = []\n",
    "for nn in range(dataM.shape[0]):\n",
    "    TCity_AG.append(AnumT2(dataAmount,dataGDP,gdp,nn))\n",
    "for nn in range(dataA.shape[0]):\n",
    "    TCity_AA.append(AnumT2(dataAmount2,dataAreas,area,nn))\n",
    "# dfT_A=pd.DataFrame(TCity_A)\n",
    "dfT_AA=pd.DataFrame(TCity_AA)\n",
    "dfT_AG=pd.DataFrame(TCity_AG)\n",
    "\n",
    "# meanTA = dfT_A.mean()\n",
    "meanTAA = dfT_AA.mean()\n",
    "meanTAG = dfT_AG.mean()"
   ]
  },
  {
   "cell_type": "code",
   "execution_count": 9,
   "metadata": {},
   "outputs": [
    {
     "data": {
      "text/plain": [
       "149"
      ]
     },
     "execution_count": 9,
     "metadata": {},
     "output_type": "execute_result"
    }
   ],
   "source": [
    "len(cityM)"
   ]
  },
  {
   "cell_type": "code",
   "execution_count": 10,
   "metadata": {},
   "outputs": [
    {
     "data": {
      "image/png": "[encoded data removed]",
      "text/plain": [
       "<Figure size 504x432 with 1 Axes>"
      ]
     },
     "metadata": {},
     "output_type": "display_data"
    }
   ],
   "source": [
    "x=np.arange(1,11)\n",
    "plt.figure(figsize=(7,6))\n",
    "# plt.plot(x,meanTA,marker='o',label='amount')\n",
    "plt.plot(x,meanTAA,marker='H',label='[amount (t), built-up area$(t+\\Delta t)$]',markersize=8)\n",
    "plt.plot(x,meanTAG,marker='d',label='[amount (t), GMP$(t+\\Delta t)$]',markersize=8)\n",
    "font2 = {'family' : 'Arial',\n",
    "    'weight' : 'normal',\n",
    "    'size' : 18,\n",
    "    }\n",
    "font1 = {'family' : 'Arial',\n",
    "    'weight' : 'normal',\n",
    "    'size' : 14,\n",
    "    }\n",
    "plt.tick_params(labelsize=16) #刻度字体大小13\n",
    "plt.xlabel('Δt[years]',font2)\n",
    "plt.ylabel(' $correlation(\\Delta t)$',font2)\n",
    "plt.legend(prop=font1)\n",
    "# plt.savefig('E:/vcdata/pic/picSC/Fig6_a3(ΔAA&TG-149).pdf', bbox_inches='tight')\n",
    "plt.savefig('E:/0论文/0picture/5_912c.png',dpi=500, bbox_inches='tight')"
   ]
  },
  {
   "cell_type": "code",
   "execution_count": null,
   "metadata": {},
   "outputs": [],
   "source": []
  }
 ],
 "metadata": {
  "kernelspec": {
   "display_name": "Python 3",
   "language": "python",
   "name": "python3"
  },
  "language_info": {
   "codemirror_mode": {
    "name": "ipython",
    "version": 3
   },
   "file_extension": ".py",
   "mimetype": "text/x-python",
   "name": "python",
   "nbconvert_exporter": "python",
   "pygments_lexer": "ipython3",
   "version": "3.6.5"
  }
 },
 "nbformat": 4,
 "nbformat_minor": 2
}
