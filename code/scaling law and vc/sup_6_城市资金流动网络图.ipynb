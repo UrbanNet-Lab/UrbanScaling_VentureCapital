{
 "cells": [
  {
   "cell_type": "code",
   "execution_count": 1,
   "metadata": {},
   "outputs": [],
   "source": [
    "#关于文档的一个数据分类\n",
    "import pandas as pd\n",
    "import seaborn as sns  #用于绘制热图的工具包\n",
    "from scipy.cluster import hierarchy  #用于进行层次聚类，话层次聚类图的工具包\n",
    "from scipy import cluster   \n",
    "import matplotlib.pyplot as plt\n",
    "from sklearn import decomposition as skldec #用于主成分分析降维的包\n",
    "import numpy as np\n",
    "#import csv\n",
    "import math\n",
    "from pandas import Series,DataFrame\n",
    "from matplotlib.ticker import  MultipleLocator\n",
    "import networkx as nx"
   ]
  },
  {
   "cell_type": "code",
   "execution_count": 2,
   "metadata": {},
   "outputs": [],
   "source": [
    "# data=pd.read_excel('NewAllData.xlsx')\n",
    "data = pd.read_excel('E:/vcdata/vcdata(91-17-new).xlsx')\n",
    "data = data[data['city']!='--']######将城市为空的数据过滤掉，得到城市风险投资网络图\n",
    "def getstr(s):\n",
    "    return str(s)[:4]\n",
    "data['get_year'] = data['投资时间'].map(getstr)\n",
    "data = data[data['投资金额(RMB)']!='--']######将城市为空的数据过滤掉，得到城市风险投资网络图\n",
    "# data = \n",
    "### 读取所有机构名称，按照机构名称，画各个网络\n",
    "# vcJG=data['机构名称'].drop_duplicates().values"
   ]
  },
  {
   "cell_type": "code",
   "execution_count": 3,
   "metadata": {},
   "outputs": [],
   "source": [
    "################ 弄成矩阵试试 ############"
   ]
  },
  {
   "cell_type": "code",
   "execution_count": 5,
   "metadata": {},
   "outputs": [],
   "source": [
    "data_2015 = data[data['get_year']=='2015']\n",
    "group_mech = data_2015.groupby('机构名称')####根据投资机构进行分类\n",
    "Cityname = data_2015['city'].drop_duplicates().values\n",
    "matrix_a15 = np.zeros((len(Cityname),len(Cityname)))###初始化矩阵\n",
    "matrix_a15_2 = np.zeros((len(Cityname),len(Cityname)))###初始化矩阵\n",
    "for g in group_mech:\n",
    "    cities = g[1]['city'].values\n",
    "    amount = g[1]['投资金额(RMB)'].values\n",
    "    for i in range(len(cities)-1):\n",
    "        matrix_a15[list(Cityname).index(cities[i])][list(Cityname).index(cities[i+1])] += 1 ###标志边存在\n",
    "        matrix_a15_2[list(Cityname).index(cities[i])][list(Cityname).index(cities[i+1])] += amount[i] ###标志边存在"
   ]
  },
  {
   "cell_type": "code",
   "execution_count": 6,
   "metadata": {},
   "outputs": [],
   "source": [
    "data_2000 = data[data['get_year']=='2000']\n",
    "group_mech20 = data_2000.groupby('机构名称')####根据投资机构进行分类\n",
    "Cityname20 = data_2000['city'].drop_duplicates().values\n",
    "matrix_a20 = np.zeros((len(Cityname20),len(Cityname20)))###初始化矩阵\n",
    "matrix_a20_2 = np.zeros((len(Cityname20),len(Cityname20)))###初始化矩阵\n",
    "for g in group_mech20:\n",
    "    cities = g[1]['city'].values\n",
    "    amount = g[1]['投资金额(RMB)'].values\n",
    "    for i in range(len(cities)-1):\n",
    "        matrix_a20[list(Cityname20).index(cities[i])][list(Cityname20).index(cities[i+1])] += 1 ###标志边存在\n",
    "        matrix_a20_2[list(Cityname20).index(cities[i])][list(Cityname20).index(cities[i+1])] += amount[i] ###标志边存在"
   ]
  },
  {
   "cell_type": "code",
   "execution_count": 7,
   "metadata": {},
   "outputs": [],
   "source": [
    "def get_edges(matrix_a,city,H):\n",
    "    index =  []###大城市的标号\n",
    "    Edges = []###选出点为大城市的边\n",
    "    for i in range(len(city)):\n",
    "        if city[i]=='北京市' or city[i]=='上海市' or city[i]=='天津市' or city[i]=='重庆市' or city[i]=='广州市':\n",
    "            index.append(i)\n",
    "    edges = list(H.edges)\n",
    "    for i in index:\n",
    "        for j in edges:\n",
    "            if i in j:\n",
    "                Edges.append(j)\n",
    "    return(Edges,index)"
   ]
  },
  {
   "cell_type": "code",
   "execution_count": 8,
   "metadata": {},
   "outputs": [
    {
     "ename": "ModuleNotFoundError",
     "evalue": "No module named 'community'",
     "output_type": "error",
     "traceback": [
      "\u001b[1;31m---------------------------------------------------------------------------\u001b[0m",
      "\u001b[1;31mModuleNotFoundError\u001b[0m                       Traceback (most recent call last)",
      "\u001b[1;32m<ipython-input-8-15585f84bd1a>\u001b[0m in \u001b[0;36m<module>\u001b[1;34m()\u001b[0m\n\u001b[1;32m----> 1\u001b[1;33m \u001b[1;32mimport\u001b[0m \u001b[0mcommunity\u001b[0m\u001b[1;33m\u001b[0m\u001b[0m\n\u001b[0m\u001b[0;32m      2\u001b[0m \u001b[1;32mimport\u001b[0m \u001b[0mnetworkx\u001b[0m \u001b[1;32mas\u001b[0m \u001b[0mnx\u001b[0m\u001b[1;33m\u001b[0m\u001b[0m\n\u001b[0;32m      3\u001b[0m \u001b[1;32mimport\u001b[0m \u001b[0mmatplotlib\u001b[0m\u001b[1;33m.\u001b[0m\u001b[0mpyplot\u001b[0m \u001b[1;32mas\u001b[0m \u001b[0mplt\u001b[0m\u001b[1;33m\u001b[0m\u001b[0m\n\u001b[0;32m      4\u001b[0m \u001b[0mfig\u001b[0m\u001b[1;33m,\u001b[0m \u001b[0max\u001b[0m \u001b[1;33m=\u001b[0m \u001b[0mplt\u001b[0m\u001b[1;33m.\u001b[0m\u001b[0msubplots\u001b[0m\u001b[1;33m(\u001b[0m\u001b[0mfigsize\u001b[0m\u001b[1;33m=\u001b[0m\u001b[1;33m(\u001b[0m\u001b[1;36m10\u001b[0m\u001b[1;33m,\u001b[0m \u001b[1;36m8\u001b[0m\u001b[1;33m)\u001b[0m\u001b[1;33m)\u001b[0m\u001b[1;33m\u001b[0m\u001b[0m\n\u001b[0;32m      5\u001b[0m \u001b[0mG\u001b[0m\u001b[1;33m=\u001b[0m\u001b[0mnx\u001b[0m\u001b[1;33m.\u001b[0m\u001b[0mGraph\u001b[0m\u001b[1;33m(\u001b[0m\u001b[0mmatrix_a15\u001b[0m\u001b[1;33m)\u001b[0m\u001b[1;33m\u001b[0m\u001b[0m\n",
      "\u001b[1;31mModuleNotFoundError\u001b[0m: No module named 'community'"
     ]
    }
   ],
   "source": [
    "import community\n",
    "import networkx as nx\n",
    "import matplotlib.pyplot as plt\n",
    "fig, ax = plt.subplots(figsize=(10, 8))\n",
    "G=nx.Graph(matrix_a15)\n",
    "components = nx.connected_components(G)\n",
    "largest_component = max(components, key=len)\n",
    "H = G.subgraph(largest_component)\n",
    "# compute centrality\n",
    "centrality = nx.betweenness_centrality(H, k=10, endpoints=True)\n",
    "\n",
    "# compute community structure\n",
    "lpc = nx.community.label_propagation_communities(H)\n",
    "community_index = {n: i for i, com in enumerate(lpc) for n in com}\n",
    "\n",
    "#### draw graph ####\n",
    "# pos = nx.spring_layout(H, k=0.15, seed=4572321)\n",
    "# pos = nx.kamada_kawai_layout(H)\n",
    "\n",
    "#first compute the best partition\n",
    "partition = community.best_partition(H)\n",
    "y =list(partition.values())\n",
    "#drawing\n",
    "size = float(len(set(partition.values())))\n",
    "count = 0.\n",
    "de = G.degree()\n",
    "deg = []\n",
    "de = dict(de)\n",
    "node_size = [v * 20 for v in list(de.values())]\n",
    "pos = nx.kamada_kawai_layout(H)  # compute graph layout\n",
    "Cityname = data_2015['city'].drop_duplicates().values\n",
    "name=[]\n",
    "arg = np.argsort(-np.array(list(de.values())))\n",
    "# print(\"arg:\",arg)\n",
    "labels = {}\n",
    "pp = ['BJ','SH','SZ','GZ','TJ','CQ']\n",
    "for index in range(6):\n",
    "    labels[arg[index]] = pp[index]\n",
    "\n",
    "edg = get_edges(matrix_a15,Cityname,H)[0]\n",
    "# plt.figure(figsize=(8, 8))  # image is 8 x 8 inches\n",
    "plt.axis('off')\n",
    "nx.draw_networkx_nodes(H, pos, node_size=node_size,cmap=plt.cm.RdYlBu, node_color=y,alpha=0.8)\n",
    "nx.draw_networkx_edges(H, pos,edgelist=edg, alpha=0.15)\n",
    "nx.draw_networkx_labels(H,pos,labels, font_size=12,font_color='black')\n",
    "plt.savefig('E:/0_论文/0picture/网络_0.png',dpi=500, bbox_inches='tight')\n",
    "plt.show(H)"
   ]
  },
  {
   "cell_type": "code",
   "execution_count": null,
   "metadata": {},
   "outputs": [],
   "source": []
  }
 ],
 "metadata": {
  "kernelspec": {
   "display_name": "Python 3",
   "language": "python",
   "name": "python3"
  },
  "language_info": {
   "codemirror_mode": {
    "name": "ipython",
    "version": 3
   },
   "file_extension": ".py",
   "mimetype": "text/x-python",
   "name": "python",
   "nbconvert_exporter": "python",
   "pygments_lexer": "ipython3",
   "version": "3.6.5"
  }
 },
 "nbformat": 4,
 "nbformat_minor": 2
}
