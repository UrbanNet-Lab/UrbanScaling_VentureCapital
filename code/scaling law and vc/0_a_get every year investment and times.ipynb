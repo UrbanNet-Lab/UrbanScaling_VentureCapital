{
 "cells": [
  {
   "cell_type": "code",
   "execution_count": 1,
   "metadata": {},
   "outputs": [],
   "source": [
    "#关于文档的一个数据分类\n",
    "import pandas as pd\n",
    "import seaborn as sns  #用于绘制热图的工具包\n",
    "from scipy.cluster import hierarchy  #用于进行层次聚类，话层次聚类图的工具包\n",
    "from scipy import cluster   \n",
    "import matplotlib.pyplot as plt\n",
    "from sklearn import decomposition as skldec #用于主成分分析降维的包\n",
    "import numpy as np\n",
    "import math\n",
    "from pandas import Series,DataFrame\n",
    "from matplotlib.ticker import  MultipleLocator"
   ]
  },
  {
   "cell_type": "code",
   "execution_count": 2,
   "metadata": {},
   "outputs": [],
   "source": [
    "data_allvc = pd.read_excel('E:/vcdata/vcdata(91-17).xlsx') ### Raw data for venture capital\n",
    "data_allvc.loc[data_allvc['投资金额(M)'].str.contains('数十万')==True,'投资金额(M)']='0.1'\n",
    "data_allvc.loc[data_allvc['投资金额(M)'].str.contains('数百万')==True,'投资金额(M)']='1'\n",
    "data_allvc.loc[data_allvc['投资金额(M)'].str.contains('数千万')==True,'投资金额(M)']='10'\n",
    "data_allvc.loc[data_allvc['投资金额(M)'].str.contains('数亿')==True,'投资金额(M)']='100'\n",
    "data_allvc.loc[data_allvc['投资金额(M)'].str.contains('数十亿')==True,'投资金额(M)']='1000'\n",
    "data_allvc.loc[data_allvc['投资金额(M)'].str.contains('<')==True,'投资金额(M)']='0.005'\n",
    "data_allvc.loc[data_allvc['投资金额(M)'].str.contains('-')==True,'投资金额(M)']='-1'\n",
    "data_allvc.loc[data_allvc['投资金额(M)'].isin(['不披露'])==True,'投资金额(M)']='0' ###不批露的也记为0，0表示数据未知"
   ]
  },
  {
   "cell_type": "code",
   "execution_count": 3,
   "metadata": {},
   "outputs": [],
   "source": [
    "dic_money={'AUD':4.8042,'CAD':5.0319,'EUR':7.5691,'GBP':8.7794,'HKD':0.8559,'JPY':0.06042,'KRW':0.005893,\n",
    "           'NOK':0.7900,'NTD':4.128,'RMB':1,'SGD':4.9613,'TWD':0.2177,'USD':6.7126,'N/A':1\n",
    "          }\n",
    "data_allvc['change']=data_allvc['投资币种'].map(dic_money)\n",
    "data_allvc['change']=data_allvc['change'].fillna('1')\n",
    "data_allvc['投资金额(M)'] = data_allvc['投资金额(M)'].astype(float)\n",
    "data_allvc['change'] = data_allvc['change'].astype(float)\n",
    "amount = data_allvc['投资金额(M)'].values\n",
    "change = data_allvc['change'].values\n",
    "amountM = []\n",
    "for i in range(data_allvc.shape[0]):    \n",
    "    if amount[i] < 0 or change[i] < 0:\n",
    "        amountM.append('--')\n",
    "    else:\n",
    "        amountM.append(amount[i] * change[i])\n",
    "data_allvc['投资金额(RMB)'] = amountM\n",
    "# data['change']=data['invest_currency'].map(dic_money)"
   ]
  },
  {
   "cell_type": "code",
   "execution_count": 4,
   "metadata": {},
   "outputs": [],
   "source": [
    "######## 记录每个城市每年总投资金额、总投资次数，有投资的次数，无投资的次数\n",
    "def getstr(s): ### 投资时间统一为yyyy\n",
    "    return str(s)[:4]##\n",
    "data_allvc['year'] = data_allvc['投资时间'].map(getstr)"
   ]
  },
  {
   "cell_type": "code",
   "execution_count": 5,
   "metadata": {},
   "outputs": [],
   "source": [
    "#得到各省的市\n",
    "def get_areas(a):\n",
    "    a=list(a.split('|'))\n",
    "    for i in range(len(a)):\n",
    "        if a[i].find('市')!=-1 or a[i].find('州')!=-1 or a[i].find('地区')!=-1 or a[i].find('盟')!=-1 or a[i].find('香港')!=-1 or a[i].find('澳门')!=-1 or a[i].find('台湾')!=-1 or a[i].find('自治县')!=-1:\n",
    "            return(a[i])       \n",
    "data_allvc['city']=data_allvc['实际地区'].map(get_areas)\n",
    "data_allvc['city']=data_allvc['city'].fillna('--')\n",
    "#data.new_area"
   ]
  },
  {
   "cell_type": "code",
   "execution_count": 7,
   "metadata": {},
   "outputs": [],
   "source": [
    "industry_date=pd.read_excel('E:/文档系列/python 系列/数据处理过滤/清科产业对应国标分级.xlsx') ###请客和产业对比\n",
    "#处理两个表中的空数据\n",
    "industry_date.fillna(\"--\", inplace=True)\n",
    "# datw.fillna(\"--\", inplace=True)\n",
    "#分别写出行业（清科）和三级代码、三级产业名称、二级代码、二级名称、一级字母代码、一级名称、一二三产业对应关系\n",
    "Tertiary_code=industry_date.set_index(\"行业(清科)\").to_dict()['三级代码']\n",
    "Tertiary_Industry=industry_date.set_index(\"行业(清科)\").to_dict()['三级产业名称']\n",
    "Secondary_code=industry_date.set_index(\"行业(清科)\").to_dict()['二级代码']\n",
    "Secondary_Industry=industry_date.set_index(\"行业(清科)\").to_dict()['二级名称']\n",
    "Primary_code=industry_date.set_index(\"行业(清科)\").to_dict()['一级字母代码']\n",
    "Primary_Industry=industry_date.set_index(\"行业(清科)\").to_dict()['一级名称']\n",
    "Correspondence=industry_date.set_index(\"行业(清科)\").to_dict()['一二三产业']\n",
    "City_city=data_allvc.set_index(\"city\").to_dict()['实际地区']\n",
    "#d系列函数分别是为了找到'行业(清科)'和一二三产业、代号的对应关系\n",
    "def d1(s):\n",
    "    end=Tertiary_code[s]\n",
    "    return(end)\n",
    "def d2(s):\n",
    "    end=Tertiary_Industry[s]\n",
    "    return(end)\n",
    "def d3(s):\n",
    "    end=Secondary_code[s]\n",
    "    return(end)\n",
    "def d4(s):\n",
    "    end=Secondary_Industry[s]\n",
    "    return(end)\n",
    "def d5(s):\n",
    "    end=Primary_code[s]\n",
    "    return(end)\n",
    "def d6(s):\n",
    "    end=Primary_Industry[s]\n",
    "    return(end)\n",
    "def d7(s):\n",
    "    end=Correspondence[s]\n",
    "    return(end)\n",
    "data_allvc['三级代码']=data_allvc['行业(清科)'].map(d1)\n",
    "data_allvc['三级产业名称']=data_allvc['行业(清科)'].map(d2)\n",
    "data_allvc['二级代码']=data_allvc['行业(清科)'].map(d3)\n",
    "data_allvc['二级名称']=data_allvc['行业(清科)'].map(d4)\n",
    "data_allvc['一级字母代码']=data_allvc['行业(清科)'].map(d5)\n",
    "data_allvc['一级名称']=data_allvc['行业(清科)'].map(d6)\n",
    "data_allvc['一二三产业']=data_allvc['行业(清科)'].map(d7)\n",
    "# data_allvc['City']=data_allvc['city'].map(citys)"
   ]
  },
  {
   "cell_type": "code",
   "execution_count": 6,
   "metadata": {},
   "outputs": [],
   "source": [
    "data_allvc.to_excel('E:/vcdata/vcdata(91-17-new2).xlsx') ###处理后的数据进行保存"
   ]
  },
  {
   "cell_type": "code",
   "execution_count": 8,
   "metadata": {},
   "outputs": [
    {
     "data": {
      "text/plain": [
       "339"
      ]
     },
     "execution_count": 8,
     "metadata": {},
     "output_type": "execute_result"
    }
   ],
   "source": [
    "len(data_allvc['city'].drop_duplicates().values)"
   ]
  },
  {
   "cell_type": "code",
   "execution_count": null,
   "metadata": {},
   "outputs": [],
   "source": []
  }
 ],
 "metadata": {
  "kernelspec": {
   "display_name": "Python 3",
   "language": "python",
   "name": "python3"
  },
  "language_info": {
   "codemirror_mode": {
    "name": "ipython",
    "version": 3
   },
   "file_extension": ".py",
   "mimetype": "text/x-python",
   "name": "python",
   "nbconvert_exporter": "python",
   "pygments_lexer": "ipython3",
   "version": "3.6.5"
  }
 },
 "nbformat": 4,
 "nbformat_minor": 2
}
